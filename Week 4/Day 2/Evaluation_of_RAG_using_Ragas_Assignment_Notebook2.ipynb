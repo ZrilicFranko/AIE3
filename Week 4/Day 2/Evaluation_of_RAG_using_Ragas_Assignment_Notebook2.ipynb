{
  "cells": [
    {
      "cell_type": "markdown",
      "metadata": {
        "id": "wa8ykQk92aLX"
      },
      "source": [
        "# Evaluation of RAG Using Ragas\n",
        "\n",
        "In the following notebook we'll explore how to evaluate RAG pipelines using a powerful open-source tool called \"Ragas\". This will give us tools to evaluate component-wise metrics, as well as end-to-end metrics about the performance of our RAG pipelines.\n",
        "\n",
        "In the following notebook we'll complete the following tasks:\n",
        "\n",
        "- 🤝 Breakout Room Part #1:\n",
        "  1. Install required libraries\n",
        "  2. Set Environment Variables\n",
        "  3. Creating a simple RAG pipeline with [LangChain v0.2.0](https://python.langchain.com/v0.2/docs/versions/v0_2/)\n",
        "  4. Synthetic Dataset Generation for Evaluation using the [Ragas](https://github.com/explodinggradients/ragas) framework.\n",
        "  \n",
        "\n",
        "- 🤝 Breakout Room Part #2:\n",
        "  1. Evaluating our pipeline with Ragas\n",
        "  3. Making Adjustments to our RAG Pipeline\n",
        "  4. Evaluating our Adjusted pipeline against our baseline\n",
        "  5. Testing OpenAI's Claim\n",
        "\n",
        "The only way to get started is to get started - so let's grab our dependencies for the day!\n",
        "\n",
        "> NOTE: Using this notebook as presented will occur a charge of ~$3USD from OpenAI usage. Most of this cost is produced by the Synthetic Data Generation step - if you want to reduce costs, please use the provided commented code to leverage `GPT-3.5-Turbo` as the `critic_llm`!"
      ]
    },
    {
      "cell_type": "markdown",
      "metadata": {
        "id": "8h4yh6f7q9uN"
      },
      "source": [
        "## Motivation\n",
        "\n",
        "A claim, made by OpenAI, is that their `text-embedding-3-small` is better (generally) than their `text-embedding-ada-002` model.\n",
        "\n",
        "Here's some passages from their [blog](https://openai.com/blog/new-embedding-models-and-api-updates) about the `text-embedding-3` release:\n",
        "\n",
        "> `text-embedding-3-small` is our new highly efficient embedding model and provides a significant upgrade over its predecessor, the `text-embedding-ada-002` model...\n",
        "\n",
        "> **Stronger performance.** Comparing `text-embedding-ada-002` to `text-embedding-3-small`, the average score on a commonly used benchmark for multi-language retrieval ([MIRACL](https://github.com/project-miracl/miracl)) has increased from 31.4% to 44.0%, while the average score on a commonly used benchmark for English tasks ([MTEB](https://github.com/embeddings-benchmark/mteb)) has increased from 61.0% to 62.3%.\n",
        "\n",
        "Well, with a library like Ragas - we can put that claim to the test!\n",
        "\n",
        "If what they claim is true - we should see an increase on related metrics by using the new embedding model!"
      ]
    },
    {
      "cell_type": "markdown",
      "metadata": {
        "id": "wAH1znJ2pIp3"
      },
      "source": [
        "# 🤝 Breakout Room Part #1"
      ]
    },
    {
      "cell_type": "markdown",
      "metadata": {
        "id": "hpkXAmMZpLhm"
      },
      "source": [
        "## Task 1: Installing Required Libraries\n",
        "\n",
        "A reminder that one of the [key features](https://blog.langchain.dev/langchain-v0-1-0/) of LangChain v0.1.0 is the compartmentalization of the various LangChain ecosystem packages!\n",
        "\n",
        "So let's begin grabbing all of our LangChain related packages!"
      ]
    },
    {
      "cell_type": "code",
      "execution_count": 1,
      "metadata": {
        "colab": {
          "base_uri": "https://localhost:8080/"
        },
        "id": "5BN13TZlSCv4",
        "outputId": "51d9c154-af83-42b2-ce72-9656729ecb9d"
      },
      "outputs": [],
      "source": [
        "!pip install -U -q langchain langchain-openai langchain_core langchain-community langchainhub openai"
      ]
    },
    {
      "cell_type": "markdown",
      "metadata": {
        "id": "fm7gXsD6pqG0"
      },
      "source": [
        "We'll also get the \"star of the show\" today, which is Ragas!"
      ]
    },
    {
      "cell_type": "code",
      "execution_count": 2,
      "metadata": {
        "colab": {
          "base_uri": "https://localhost:8080/"
        },
        "id": "zvAvDNWBpjQ1",
        "outputId": "20ff8c89-11db-4071-b0a0-6b9bfc0e215f"
      },
      "outputs": [],
      "source": [
        "!pip install -qU ragas"
      ]
    },
    {
      "cell_type": "markdown",
      "metadata": {
        "id": "L9q6Z9oTpw3X"
      },
      "source": [
        "We'll be leveraging [QDrant](https://qdrant.tech/) again as our LangChain `VectorStore`.\n",
        "\n",
        "We'll also install `pymupdf` and its dependencies which will allow us to load PDFs using the `PyMuPDFLoader` in the `langchain-community` package!"
      ]
    },
    {
      "cell_type": "code",
      "execution_count": 3,
      "metadata": {
        "colab": {
          "base_uri": "https://localhost:8080/"
        },
        "id": "sAJK95napn8I",
        "outputId": "58f04109-385b-44c7-d3cb-4547d8acaea1"
      },
      "outputs": [],
      "source": [
        "!pip install -qU qdrant-client pymupdf pandas"
      ]
    },
    {
      "cell_type": "markdown",
      "metadata": {
        "id": "0_C2JvG1qO3h"
      },
      "source": [
        "## Task 2: Set Environment Variables\n",
        "\n",
        "Let's set up our OpenAI API key so we can leverage their API later on."
      ]
    },
    {
      "cell_type": "code",
      "execution_count": 4,
      "metadata": {
        "colab": {
          "base_uri": "https://localhost:8080/"
        },
        "id": "8Lhqp5rUThG-",
        "outputId": "97cb739d-66b4-4476-ca04-b6257004178f"
      },
      "outputs": [],
      "source": [
        "import os\n",
        "import openai\n",
        "from getpass import getpass\n",
        "\n",
        "openai.api_key = getpass(\"Please provide your OpenAI Key: \")\n",
        "os.environ[\"OPENAI_API_KEY\"] = openai.api_key"
      ]
    },
    {
      "cell_type": "markdown",
      "metadata": {
        "id": "TFbWNvo3rZ4H"
      },
      "source": [
        "## Task 3: Creating a Simple RAG Pipeline with LangChain v0.1.0\n",
        "\n",
        "Building on what we learned last week, we'll be leveraging LangChain v0.1.0 and LCEL to build a simple RAG pipeline that we can baseline with Ragas."
      ]
    },
    {
      "cell_type": "markdown",
      "metadata": {
        "id": "DV_BOewX8CW0"
      },
      "source": [
        "## Building our RAG pipeline\n",
        "\n",
        "Let's review the basic steps of RAG again:\n",
        "\n",
        "- Create an Index\n",
        "- Use retrieval to obtain pieces of context from our Index that are similar to our query\n",
        "- Use a LLM to generate responses based on the retrieved context\n",
        "\n",
        "Let's get started by creating our index.\n",
        "\n",
        "> NOTE: We're going to start leaning on the term \"index\" to refer to our `VectorStore`, `VectorDatabase`, etc. We can think of \"index\" as the catch-all term, whereas `VectorStore` and the like relate to the specific technologies used to create, store, and interact with the index."
      ]
    },
    {
      "cell_type": "markdown",
      "metadata": {
        "id": "1VDGJdxCJEVc"
      },
      "source": [
        "### Creating an Index\n",
        "\n",
        "You'll notice that the largest changes (outside of some import changes) are that our old favourite chains are back to being bundled in an easily usable abstraction.\n",
        "\n",
        "We can still create custom chains using LCEL - but we can also be more confident that our pre-packaged chains are creating using LCEL under the hood."
      ]
    },
    {
      "cell_type": "markdown",
      "metadata": {
        "id": "RmFFThawK8lO"
      },
      "source": [
        "#### Loading Data\n",
        "\n",
        "Let's start by loading some data!\n",
        "\n",
        "> NOTE: You'll notice that we're using a document loader from the community package of LangChain. This is part of the v0.2.0 changes that make the base (`langchain-core`) package remain lightweight while still providing access to some of the more powerful community integrations."
      ]
    },
    {
      "cell_type": "code",
      "execution_count": 5,
      "metadata": {
        "id": "DTDNFXaBSO2j"
      },
      "outputs": [],
      "source": [
        "from langchain_community.document_loaders import PyMuPDFLoader\n",
        "\n",
        "loader = PyMuPDFLoader(\n",
        "    \"https://d1lamhf6l6yk6d.cloudfront.net/uploads/2021/08/The-pmarca-Blog-Archives.pdf\",\n",
        ")\n",
        "\n",
        "documents = loader.load()"
      ]
    },
    {
      "cell_type": "code",
      "execution_count": 6,
      "metadata": {
        "colab": {
          "base_uri": "https://localhost:8080/"
        },
        "id": "i3dJYlBCIX_p",
        "outputId": "1383c5b7-bb72-49ea-d323-fcd9eed48d60"
      },
      "outputs": [
        {
          "data": {
            "text/plain": [
              "{'source': 'https://d1lamhf6l6yk6d.cloudfront.net/uploads/2021/08/The-pmarca-Blog-Archives.pdf',\n",
              " 'file_path': 'https://d1lamhf6l6yk6d.cloudfront.net/uploads/2021/08/The-pmarca-Blog-Archives.pdf',\n",
              " 'page': 0,\n",
              " 'total_pages': 195,\n",
              " 'format': 'PDF 1.3',\n",
              " 'title': 'The Pmarca Blog Archives',\n",
              " 'author': '',\n",
              " 'subject': '',\n",
              " 'keywords': '',\n",
              " 'creator': '',\n",
              " 'producer': 'Mac OS X 10.10 Quartz PDFContext',\n",
              " 'creationDate': \"D:20150110020418Z00'00'\",\n",
              " 'modDate': \"D:20150110020418Z00'00'\",\n",
              " 'trapped': ''}"
            ]
          },
          "execution_count": 6,
          "metadata": {},
          "output_type": "execute_result"
        }
      ],
      "source": [
        "documents[0].metadata"
      ]
    },
    {
      "cell_type": "markdown",
      "metadata": {
        "id": "oQUl3sbZK4_1"
      },
      "source": [
        "#### Transforming Data\n",
        "\n",
        "Now that we've got our single document - let's split it into smaller pieces so we can more effectively leverage it with our retrieval chain!\n",
        "\n",
        "We'll start with the classic: `RecursiveCharacterTextSplitter`."
      ]
    },
    {
      "cell_type": "code",
      "execution_count": 7,
      "metadata": {
        "id": "6Nt2E1xnLNgr"
      },
      "outputs": [],
      "source": [
        "from langchain.text_splitter import RecursiveCharacterTextSplitter\n",
        "\n",
        "text_splitter = RecursiveCharacterTextSplitter(\n",
        "    chunk_size = 200,\n",
        "    chunk_overlap = 50\n",
        ")\n",
        "\n",
        "documents = text_splitter.split_documents(documents)"
      ]
    },
    {
      "cell_type": "markdown",
      "metadata": {
        "id": "ilzwQxhiLcVV"
      },
      "source": [
        "Let's confirm we've split our document."
      ]
    },
    {
      "cell_type": "code",
      "execution_count": 8,
      "metadata": {
        "colab": {
          "base_uri": "https://localhost:8080/"
        },
        "id": "4wRw6a4aLfWh",
        "outputId": "a707bbf6-6338-45fc-a75e-86d693dfe2c9"
      },
      "outputs": [
        {
          "data": {
            "text/plain": [
              "1864"
            ]
          },
          "execution_count": 8,
          "metadata": {},
          "output_type": "execute_result"
        }
      ],
      "source": [
        "len(documents)"
      ]
    },
    {
      "cell_type": "markdown",
      "metadata": {
        "id": "eZ93HkYcMJwW"
      },
      "source": [
        "#### Loading OpenAI Embeddings Model\n",
        "\n",
        "We'll need a process by which we can convert our text into vectors that allow us to compare to our query vector.\n",
        "\n",
        "Let's use OpenAI's `text-embedding-ada-002` for this task!"
      ]
    },
    {
      "cell_type": "code",
      "execution_count": 9,
      "metadata": {
        "id": "JU6CrDVZMgKe"
      },
      "outputs": [],
      "source": [
        "from langchain_openai import OpenAIEmbeddings\n",
        "\n",
        "embeddings = OpenAIEmbeddings(\n",
        "    model=\"text-embedding-ada-002\"\n",
        ")"
      ]
    },
    {
      "cell_type": "markdown",
      "metadata": {
        "id": "rVtZR9JPLtR4"
      },
      "source": [
        "#### Creating a QDrant VectorStore\n",
        "\n",
        "Now that we have documents - we'll need a place to store them alongside their embeddings."
      ]
    },
    {
      "cell_type": "code",
      "execution_count": 10,
      "metadata": {
        "id": "978TWiCtMA0B"
      },
      "outputs": [],
      "source": [
        "from langchain_community.vectorstores import Qdrant\n",
        "\n",
        "qdrant_vector_store = Qdrant.from_documents(\n",
        "    documents,\n",
        "    embeddings,\n",
        "    location=\":memory:\",\n",
        "    collection_name=\"PMarca Blogs\",\n",
        ")"
      ]
    },
    {
      "cell_type": "markdown",
      "metadata": {
        "id": "Vk50NmrMDlWu"
      },
      "source": [
        "####❓ Question #1:\n",
        "\n",
        "List out a few of the techniques that Qdrant uses that make it performant.\n",
        "\n",
        "> NOTE: Check the [documentation](https://qdrant.tech/documentation/overview/) for more information about QDrant!\n",
        "\n",
        "\n",
        "### ANSWER\n",
        "\n",
        "\n",
        "\n",
        "1. Hierarchical Navigable Small World (HNSW) - which is used to implement Approximate Nearest Neighbors. Qdrant builds a layered graph and uses smart search methods to quickly and accurately find similar vectors. The flexible and parallel processing abilities of HNSW boost Qdrant's overall performance even further.\n",
        "\n",
        "2. Product Quantization- It works by splitting high-dimensional vectors into vectors that are less precise. This redcues requried storage and it allows faster computation.\n",
        "\n",
        "3. Qdrant can use one of two options for storage, In-memory storage (Stores all vectors in RAM, has the highest speed since disk access is required only for persistence), or Memmap storage, (creates a virtual address space associated with the file on disk).\n",
        "\n"
      ]
    },
    {
      "cell_type": "markdown",
      "metadata": {
        "id": "Z7ht6bJX9PAY"
      },
      "source": [
        "#### Creating a Retriever\n",
        "\n",
        "To complete our index, all that's left to do is expose our vectorstore as a retriever - which we can do the same way we would in previous version of LangChain!"
      ]
    },
    {
      "cell_type": "code",
      "execution_count": 11,
      "metadata": {
        "id": "xne8P5dQTUiR"
      },
      "outputs": [],
      "source": [
        "retriever = qdrant_vector_store.as_retriever()"
      ]
    },
    {
      "cell_type": "markdown",
      "metadata": {
        "id": "sO_DFBVKNvNm"
      },
      "source": [
        "#### Testing our Retriever\n",
        "\n",
        "Now that we've gone through the trouble of creating our retriever - let's see it in action!"
      ]
    },
    {
      "cell_type": "code",
      "execution_count": 12,
      "metadata": {
        "id": "I9_ONxpnN0n6"
      },
      "outputs": [],
      "source": [
        "retrieved_documents = retriever.invoke(\"What is a rule of thumb for selecting an industry to invest in?\")"
      ]
    },
    {
      "cell_type": "code",
      "execution_count": 13,
      "metadata": {
        "colab": {
          "base_uri": "https://localhost:8080/"
        },
        "id": "-Za12yt4OBy1",
        "outputId": "6dfa1ae5-8198-49a1-b213-96b34a1a5147"
      },
      "outputs": [
        {
          "name": "stdout",
          "output_type": "stream",
          "text": [
            "page_content='the existing order — and make sure that those forces of change\\nhave a reasonable chance at succeeding.\\nSecond rule of thumb:\\nOnce you have picked an industry, get right to the center of it' metadata={'source': 'https://d1lamhf6l6yk6d.cloudfront.net/uploads/2021/08/The-pmarca-Blog-Archives.pdf', 'file_path': 'https://d1lamhf6l6yk6d.cloudfront.net/uploads/2021/08/The-pmarca-Blog-Archives.pdf', 'page': 125, 'total_pages': 195, 'format': 'PDF 1.3', 'title': 'The Pmarca Blog Archives', 'author': '', 'subject': '', 'keywords': '', 'creator': '', 'producer': 'Mac OS X 10.10 Quartz PDFContext', 'creationDate': \"D:20150110020418Z00'00'\", 'modDate': \"D:20150110020418Z00'00'\", 'trapped': '', '_id': '7631aeb3f4ee407885d86fca9da2e2d8', '_collection_name': 'PMarca Blogs'}\n",
            "page_content='Third rule:\\nIn a rapidly changing Held like technology, the best place to\\nget experience when you’re starting out is in younger, high-\\ngrowth companies.' metadata={'source': 'https://d1lamhf6l6yk6d.cloudfront.net/uploads/2021/08/The-pmarca-Blog-Archives.pdf', 'file_path': 'https://d1lamhf6l6yk6d.cloudfront.net/uploads/2021/08/The-pmarca-Blog-Archives.pdf', 'page': 127, 'total_pages': 195, 'format': 'PDF 1.3', 'title': 'The Pmarca Blog Archives', 'author': '', 'subject': '', 'keywords': '', 'creator': '', 'producer': 'Mac OS X 10.10 Quartz PDFContext', 'creationDate': \"D:20150110020418Z00'00'\", 'modDate': \"D:20150110020418Z00'00'\", 'trapped': '', '_id': 'e8e9f68a303b40718587d65ec91c30e2', '_collection_name': 'PMarca Blogs'}\n",
            "page_content='where the great opportunities can be found.\\nApply this rule when selecting which company to go to. Go to\\nthe company where all the action is happening.' metadata={'source': 'https://d1lamhf6l6yk6d.cloudfront.net/uploads/2021/08/The-pmarca-Blog-Archives.pdf', 'file_path': 'https://d1lamhf6l6yk6d.cloudfront.net/uploads/2021/08/The-pmarca-Blog-Archives.pdf', 'page': 125, 'total_pages': 195, 'format': 'PDF 1.3', 'title': 'The Pmarca Blog Archives', 'author': '', 'subject': '', 'keywords': '', 'creator': '', 'producer': 'Mac OS X 10.10 Quartz PDFContext', 'creationDate': \"D:20150110020418Z00'00'\", 'modDate': \"D:20150110020418Z00'00'\", 'trapped': '', '_id': 'f09cce0939094da8975c003fdafe77b8', '_collection_name': 'PMarca Blogs'}\n",
            "page_content='growth companies.\\n(This is not necessarily true in older and more established\\nindustries, but those aren’t the industries we’re talking about.)' metadata={'source': 'https://d1lamhf6l6yk6d.cloudfront.net/uploads/2021/08/The-pmarca-Blog-Archives.pdf', 'file_path': 'https://d1lamhf6l6yk6d.cloudfront.net/uploads/2021/08/The-pmarca-Blog-Archives.pdf', 'page': 127, 'total_pages': 195, 'format': 'PDF 1.3', 'title': 'The Pmarca Blog Archives', 'author': '', 'subject': '', 'keywords': '', 'creator': '', 'producer': 'Mac OS X 10.10 Quartz PDFContext', 'creationDate': \"D:20150110020418Z00'00'\", 'modDate': \"D:20150110020418Z00'00'\", 'trapped': '', '_id': 'e01fb1ac1be440f58a06843ebb412dd5', '_collection_name': 'PMarca Blogs'}\n"
          ]
        }
      ],
      "source": [
        "for doc in retrieved_documents:\n",
        "  print(doc)"
      ]
    },
    {
      "cell_type": "markdown",
      "metadata": {
        "id": "D8MKsT6JTgCU"
      },
      "source": [
        "### Creating a RAG Chain\n",
        "\n",
        "Now that we have the \"R\" in RAG taken care of - let's look at creating the \"AG\"!"
      ]
    },
    {
      "cell_type": "markdown",
      "metadata": {
        "id": "zs7qBLaEQEic"
      },
      "source": [
        "#### Creating a Prompt Template\n",
        "\n",
        "There are a few different ways we could create our prompt template - we could create a custom template, as seen in the code below, or we could simply pull a prompt from the prompt hub! Let's look at an example of that!"
      ]
    },
    {
      "cell_type": "code",
      "execution_count": 14,
      "metadata": {
        "id": "eRCq_OKUQbKk"
      },
      "outputs": [],
      "source": [
        "from langchain import hub\n",
        "\n",
        "retrieval_qa_prompt = hub.pull(\"langchain-ai/retrieval-qa-chat\")"
      ]
    },
    {
      "cell_type": "code",
      "execution_count": 15,
      "metadata": {
        "colab": {
          "base_uri": "https://localhost:8080/"
        },
        "id": "FziTftV5Q1H-",
        "outputId": "21189f0e-4b5d-4146-8071-eb0fff4a6f13"
      },
      "outputs": [
        {
          "name": "stdout",
          "output_type": "stream",
          "text": [
            "Answer any use questions based solely on the context below:\n",
            "\n",
            "<context>\n",
            "{context}\n",
            "</context>\n"
          ]
        }
      ],
      "source": [
        "print(retrieval_qa_prompt.messages[0].prompt.template)"
      ]
    },
    {
      "cell_type": "markdown",
      "metadata": {
        "id": "iyq88IPFRGoT"
      },
      "source": [
        "As you can see - the prompt template is simple (and has a small error) - so we'll create our own to be a bit more specific!"
      ]
    },
    {
      "cell_type": "code",
      "execution_count": 16,
      "metadata": {
        "id": "ijSNkTAjTsep"
      },
      "outputs": [],
      "source": [
        "from langchain.prompts import ChatPromptTemplate\n",
        "\n",
        "template = \"\"\"Answer the question based only on the following context. If you cannot answer the question with the context, please respond with 'I don't know':\n",
        "\n",
        "Context:\n",
        "{context}\n",
        "\n",
        "Question:\n",
        "{question}\n",
        "\"\"\"\n",
        "\n",
        "prompt = ChatPromptTemplate.from_template(template)"
      ]
    },
    {
      "cell_type": "markdown",
      "metadata": {
        "id": "BYHnPaXl-cvJ"
      },
      "source": [
        "#### Setting Up our Basic QA Chain\n",
        "\n",
        "Now we can instantiate our basic RAG chain!\n",
        "\n",
        "We'll use LCEL directly just to see an example of it - but you could just as easily use an abstraction here to achieve the same goal!\n",
        "\n",
        "We'll also ensure to pass-through our context - which is critical for RAGAS."
      ]
    },
    {
      "cell_type": "code",
      "execution_count": 17,
      "metadata": {
        "id": "-TsjUWjbUfbW"
      },
      "outputs": [],
      "source": [
        "from operator import itemgetter\n",
        "\n",
        "from langchain_openai import ChatOpenAI\n",
        "from langchain_core.output_parsers import StrOutputParser\n",
        "from langchain_core.runnables import RunnablePassthrough\n",
        "\n",
        "primary_qa_llm = ChatOpenAI(model_name=\"gpt-3.5-turbo\", temperature=0)\n",
        "\n",
        "retrieval_augmented_qa_chain = (\n",
        "    # INVOKE CHAIN WITH: {\"question\" : \"<<SOME USER QUESTION>>\"}\n",
        "    # \"question\" : populated by getting the value of the \"question\" key\n",
        "    # \"context\"  : populated by getting the value of the \"question\" key and chaining it into the base_retriever\n",
        "    {\"context\": itemgetter(\"question\") | retriever, \"question\": itemgetter(\"question\")}\n",
        "    # \"context\"  : is assigned to a RunnablePassthrough object (will not be called or considered in the next step)\n",
        "    #              by getting the value of the \"context\" key from the previous step\n",
        "    | RunnablePassthrough.assign(context=itemgetter(\"context\"))\n",
        "    # \"response\" : the \"context\" and \"question\" values are used to format our prompt object and then piped\n",
        "    #              into the LLM and stored in a key called \"response\"\n",
        "    # \"context\"  : populated by getting the value of the \"context\" key from the previous step\n",
        "    | {\"response\": prompt | primary_qa_llm, \"context\": itemgetter(\"context\")}\n",
        ")"
      ]
    },
    {
      "cell_type": "markdown",
      "metadata": {
        "id": "7MgAa9JwBuJx"
      },
      "source": [
        "####🏗️ Activity #1:\n",
        "\n",
        "Describe the pipeline shown above in simple terms. You can include a diagram if desired.\n",
        "\n",
        "\n",
        "### ANSWER\n",
        "\n",
        "\n",
        "Firsty, asked question gets sent to pipeline, then we look at out qdrant vectorstore for most similiar document. THen the question and the retrieved context are then fed into a prompt template. This formatted prompt is sent to the \"primary_qa_llm\", which generates a response.\n",
        "\n",
        "\n"
      ]
    },
    {
      "cell_type": "markdown",
      "metadata": {
        "id": "zO69de-F-oMD"
      },
      "source": [
        "Let's test it out!"
      ]
    },
    {
      "cell_type": "code",
      "execution_count": 18,
      "metadata": {
        "colab": {
          "base_uri": "https://localhost:8080/"
        },
        "id": "2FS5NxC6UyU2",
        "outputId": "db9953a2-758d-4723-cd95-e980a47715d3"
      },
      "outputs": [
        {
          "name": "stdout",
          "output_type": "stream",
          "text": [
            "Get right to the center of it.\n"
          ]
        }
      ],
      "source": [
        "question = \"What is a rule of thumb for selecting an industry to invest in?\"\n",
        "\n",
        "result = retrieval_augmented_qa_chain.invoke({\"question\" : question})\n",
        "\n",
        "print(result[\"response\"].content)"
      ]
    },
    {
      "cell_type": "code",
      "execution_count": 19,
      "metadata": {
        "colab": {
          "base_uri": "https://localhost:8080/"
        },
        "id": "tIuHVGPOO9P2",
        "outputId": "24ce3524-9284-4eea-f78b-4329a615d321"
      },
      "outputs": [
        {
          "name": "stdout",
          "output_type": "stream",
          "text": [
            "I don't know.\n",
            "[Document(page_content='ask if you can call them again if things change.\\nTrust me — they’d much rather be saying “yes” than “no” —\\nthey need all the good investments they can get.\\nSecond, consider the environment.', metadata={'source': 'https://d1lamhf6l6yk6d.cloudfront.net/uploads/2021/08/The-pmarca-Blog-Archives.pdf', 'file_path': 'https://d1lamhf6l6yk6d.cloudfront.net/uploads/2021/08/The-pmarca-Blog-Archives.pdf', 'page': 15, 'total_pages': 195, 'format': 'PDF 1.3', 'title': 'The Pmarca Blog Archives', 'author': '', 'subject': '', 'keywords': '', 'creator': '', 'producer': 'Mac OS X 10.10 Quartz PDFContext', 'creationDate': \"D:20150110020418Z00'00'\", 'modDate': \"D:20150110020418Z00'00'\", 'trapped': '', '_id': 'c73bf909879147f4814995670c4eebd5', '_collection_name': 'PMarca Blogs'}), Document(page_content='watching carefully — if everyone agrees right up front that\\nwhatever you are doing makes total sense, it probably isn’t a new\\nand radical enough idea to justify a new company.', metadata={'source': 'https://d1lamhf6l6yk6d.cloudfront.net/uploads/2021/08/The-pmarca-Blog-Archives.pdf', 'file_path': 'https://d1lamhf6l6yk6d.cloudfront.net/uploads/2021/08/The-pmarca-Blog-Archives.pdf', 'page': 152, 'total_pages': 195, 'format': 'PDF 1.3', 'title': 'The Pmarca Blog Archives', 'author': '', 'subject': '', 'keywords': '', 'creator': '', 'producer': 'Mac OS X 10.10 Quartz PDFContext', 'creationDate': \"D:20150110020418Z00'00'\", 'modDate': \"D:20150110020418Z00'00'\", 'trapped': '', '_id': 'b6eec59d83c949f88c9cfccc143e6341', '_collection_name': 'PMarca Blogs'}), Document(page_content='Third rule:\\nIn a rapidly changing Held like technology, the best place to\\nget experience when you’re starting out is in younger, high-\\ngrowth companies.', metadata={'source': 'https://d1lamhf6l6yk6d.cloudfront.net/uploads/2021/08/The-pmarca-Blog-Archives.pdf', 'file_path': 'https://d1lamhf6l6yk6d.cloudfront.net/uploads/2021/08/The-pmarca-Blog-Archives.pdf', 'page': 127, 'total_pages': 195, 'format': 'PDF 1.3', 'title': 'The Pmarca Blog Archives', 'author': '', 'subject': '', 'keywords': '', 'creator': '', 'producer': 'Mac OS X 10.10 Quartz PDFContext', 'creationDate': \"D:20150110020418Z00'00'\", 'modDate': \"D:20150110020418Z00'00'\", 'trapped': '', '_id': 'e8e9f68a303b40718587d65ec91c30e2', '_collection_name': 'PMarca Blogs'}), Document(page_content='the existing order — and make sure that those forces of change\\nhave a reasonable chance at succeeding.\\nSecond rule of thumb:\\nOnce you have picked an industry, get right to the center of it', metadata={'source': 'https://d1lamhf6l6yk6d.cloudfront.net/uploads/2021/08/The-pmarca-Blog-Archives.pdf', 'file_path': 'https://d1lamhf6l6yk6d.cloudfront.net/uploads/2021/08/The-pmarca-Blog-Archives.pdf', 'page': 125, 'total_pages': 195, 'format': 'PDF 1.3', 'title': 'The Pmarca Blog Archives', 'author': '', 'subject': '', 'keywords': '', 'creator': '', 'producer': 'Mac OS X 10.10 Quartz PDFContext', 'creationDate': \"D:20150110020418Z00'00'\", 'modDate': \"D:20150110020418Z00'00'\", 'trapped': '', '_id': '7631aeb3f4ee407885d86fca9da2e2d8', '_collection_name': 'PMarca Blogs'})]\n"
          ]
        }
      ],
      "source": [
        "question = \"What did Pink Floyd have to say about how to proceed when investing in a new industry?\"\n",
        "\n",
        "result = retrieval_augmented_qa_chain.invoke({\"question\" : question})\n",
        "\n",
        "print(result[\"response\"].content)\n",
        "print(result[\"context\"])"
      ]
    },
    {
      "cell_type": "markdown",
      "metadata": {
        "id": "a-XYZueEP42k"
      },
      "source": [
        "We can already see that there are some improvements we could make here.\n",
        "\n",
        "For now, let's switch gears to RAGAS to see how we can leverage that tool to provide us insight into how our pipeline is performing!"
      ]
    },
    {
      "cell_type": "markdown",
      "metadata": {
        "id": "EOECHyzHRqDw"
      },
      "source": [
        "## Task 4: Synthetic Dataset Generation for Evaluation using Ragas\n",
        "\n",
        "Ragas is a powerful library that lets us evaluate our RAG pipeline by collecting input/output/context triplets and obtaining metrics relating to a number of different aspects of our RAG pipeline.\n",
        "\n",
        "We'll be evaluating on every core metric today, but in order to do that - we'll need to create a test set. Luckily for us, Ragas can do that directly!"
      ]
    },
    {
      "cell_type": "markdown",
      "metadata": {
        "id": "KqXQ0jweWJOu"
      },
      "source": [
        "### Synthetic Test Set Generation\n",
        "\n",
        "We can leverage Ragas' [`Synthetic Test Data generation`](https://docs.ragas.io/en/stable/concepts/testset_generation.html) functionality to generate our own synthetic QC pairs - as well as a synthetic ground truth - quite easily!"
      ]
    },
    {
      "cell_type": "code",
      "execution_count": 20,
      "metadata": {
        "id": "nVk5SlU9znXe"
      },
      "outputs": [],
      "source": [
        "loader = PyMuPDFLoader(\n",
        "    \"https://d1lamhf6l6yk6d.cloudfront.net/uploads/2021/08/The-pmarca-Blog-Archives.pdf\",\n",
        ")\n",
        "\n",
        "eval_documents = loader.load()\n",
        "\n",
        "text_splitter_eval = RecursiveCharacterTextSplitter(\n",
        "    chunk_size = 600,\n",
        "    chunk_overlap = 50\n",
        ")\n",
        "\n",
        "eval_documents = text_splitter_eval.split_documents(eval_documents)"
      ]
    },
    {
      "cell_type": "markdown",
      "metadata": {
        "id": "K7rOQkxhzrq3"
      },
      "source": [
        "####❓ Question #2:\n",
        "\n",
        "Why is it important to split our documents using different parameters when creating our synthetic data?\n",
        "\n",
        "### ANSWER\n",
        "\n",
        "Bigger chunk_size ensure more variations in data, and by having the same size in both cases we risk not having diverse enough questions that will test our RAG properly (like in production). Larger chunks can capture more context, which can be beneficial for understanding and generating responses that require a broader context.\n"
      ]
    },
    {
      "cell_type": "code",
      "execution_count": 21,
      "metadata": {
        "colab": {
          "base_uri": "https://localhost:8080/"
        },
        "id": "hiAPYw-hz-zo",
        "outputId": "fc8c6829-5c53-4eb1-8407-1545f5a7d023"
      },
      "outputs": [
        {
          "data": {
            "text/plain": [
              "624"
            ]
          },
          "execution_count": 21,
          "metadata": {},
          "output_type": "execute_result"
        }
      ],
      "source": [
        "len(eval_documents)"
      ]
    },
    {
      "cell_type": "markdown",
      "metadata": {
        "id": "HYCrVMW9Blda"
      },
      "source": [
        "\n",
        "> NOTE: 🛑 Using this notebook as presented will occur a charge of ~$3USD from OpenAI usage. Most of this cost is produced by the Synthetic Data Generation step - if you want to reduce costs, please use the provided commented code to leverage GPT-3.5-Turbo as the critic_llm. If you're attempting to create a lot of samples please be aware of cost, as well as rate limits. 🛑"
      ]
    },
    {
      "cell_type": "markdown",
      "metadata": {
        "colab": {
          "base_uri": "https://localhost:8080/",
          "height": 1000,
          "referenced_widgets": [
            "f75fdd56268a4b83a7fb7e4a3b2cce82",
            "1fb5a4b71deb406fa2f342c88b9e4e1d",
            "37ec9b5c847749439d7c155ac3b1ec68",
            "1317f4e20e1c4574a360345b427c3e8a",
            "2aa53858803d4ad39113009d86dd67fc",
            "7e1d22c19aff4c768d643c249e425d00",
            "3a498872a68049329b4d206629b9b3bf",
            "89a7c333d0b241169dc29ed998b2c9c4",
            "88c8557741734e59a6099bb5fa260f6e",
            "92ef10fab64c4f40a93da3d31b572016",
            "3b43c3f561e34d019007ac9a0125b28d",
            "05ab48866b5d49df9567ce9cbda5ee2e",
            "49c1ef316e404052a7c8528781db3f9a",
            "2dcb3e2fdf164e35a27a79cfae65933a",
            "202f4244384a4501bfc1ffa50af96a1f",
            "d93698b0506743ff98fdb998cfb7080a",
            "19acd28bfa2e4a7a83bc42faea5de770",
            "356b929fa8dc42538767c58dcce12217",
            "60a663f8736a43bcb47ac6c5f37ec597",
            "e6edc46811064de2b74a6a477c4a44b7",
            "a10a7577a99b4683a1d59a09d88f93a1",
            "444bc7dae1aa4e098b79655428599310"
          ]
        },
        "id": "IXc6sMglSej_",
        "outputId": "1d4904f0-9674-448a-9af3-f99da62cc8f3"
      },
      "source": [
        "from ragas.testset.generator import TestsetGenerator\n",
        "from ragas.testset.evolutions import simple, reasoning, multi_context\n",
        "from langchain_openai import ChatOpenAI, OpenAIEmbeddings\n",
        "from ragas.run_config import RunConfig\n",
        "\n",
        "generator_llm = ChatOpenAI(model=\"gpt-3.5-turbo-16k\")\n",
        "# critic_llm = ChatOpenAI(model=\"gpt-3.5-turbo\") <--- If you don't have GPT-4 access, or to reduce cost/rate limiting issues.\n",
        "critic_llm = ChatOpenAI(model=\"gpt-4o\")\n",
        "embeddings = OpenAIEmbeddings()\n",
        "\n",
        "run_config = RunConfig(\n",
        "    timeout=60,\n",
        "    max_retries=10,\n",
        "    max_wait = 180,\n",
        "    max_workers= 1\n",
        ")\n",
        "\n",
        "generator = TestsetGenerator.from_langchain(\n",
        "    generator_llm,\n",
        "    critic_llm,\n",
        "    embeddings,\n",
        "    run_config = run_config \n",
        ")\n",
        "\n",
        "distributions = {\n",
        "    simple: 0.5,\n",
        "    multi_context: 0.4,\n",
        "    reasoning: 0.1\n",
        "}\n",
        "\n",
        "testset = generator.generate_with_langchain_docs(eval_documents, 20, distributions, is_async = False,raise_exceptions=True)\n",
        "testset.to_pandas()"
      ]
    },
    {
      "cell_type": "markdown",
      "metadata": {
        "id": "GOIGT0XLz8ze"
      },
      "source": [
        "####❓ Question #3:\n",
        "\n",
        "`{simple: 0.5, reasoning: 0.25, multi_context: 0.25}`\n",
        "\n",
        "What exactly does this mapping refer to?\n",
        "\n",
        "> NOTE: Check out the Ragas documentation on this generation process [here](https://docs.ragas.io/en/stable/concepts/testset_generation.html).\n",
        "\n",
        "### ANSWER\n",
        "It refers to the weighting of different types of evaluation metrics or question types used to assess the performance:\n",
        "Here are the explainations for them:\n",
        "\n",
        "Simple : This likely represents straightforward or basic questions that the RAG system is expected to answer <br>\n",
        "Reasoning: Rewrite the question in a way that enhances the need for reasoning to answer it effectively.<br>\n",
        "Conditioning: Modify the question to introduce a conditional element, which adds complexity to the question.<br>\n",
        "Multi-Context: Rephrase the question in a manner that necessitates information from multiple related sections or chunks to formulate an answer."
      ]
    },
    {
      "cell_type": "markdown",
      "metadata": {
        "id": "MemL406rUzBu"
      },
      "source": [
        "Let's look at the output and see what we can learn about it!"
      ]
    },
    {
      "cell_type": "code",
      "execution_count": 23,
      "metadata": {
        "colab": {
          "base_uri": "https://localhost:8080/"
        },
        "id": "RaCDdImVU15s",
        "outputId": "31efbb94-f09d-4d50-8c6e-59202aaeb5c9"
      },
      "outputs": [
        {
          "data": {
            "text/plain": [
              "DataRow(question='How can engaging in conversation through blogging help an entrepreneur in their search for funding?', contexts=['looking for funding to blog — about their startup, about inter-\\nesting things going on, about their point of view. This puts an\\nentrepreneur in the Yow of conversation, which can lead to\\ninteraction with VCs through the normal medium of blogging.\\nAnd, when a VC does decide to take a look at you and your com-\\npany, she can read your blog to get a sense of who you are and\\n22\\nThe Pmarca Blog Archives'], ground_truth='Engaging in conversation through blogging can help an entrepreneur in their search for funding by putting them in the flow of conversation and potentially leading to interaction with venture capitalists (VCs). When a VC decides to take a look at the entrepreneur and their company, they can read the blog to get a sense of who the entrepreneur is.', evolution_type='simple', metadata=[{'source': 'https://d1lamhf6l6yk6d.cloudfront.net/uploads/2021/08/The-pmarca-Blog-Archives.pdf', 'file_path': 'https://d1lamhf6l6yk6d.cloudfront.net/uploads/2021/08/The-pmarca-Blog-Archives.pdf', 'page': 26, 'total_pages': 195, 'format': 'PDF 1.3', 'title': 'The Pmarca Blog Archives', 'author': '', 'subject': '', 'keywords': '', 'creator': '', 'producer': 'Mac OS X 10.10 Quartz PDFContext', 'creationDate': \"D:20150110020418Z00'00'\", 'modDate': \"D:20150110020418Z00'00'\", 'trapped': ''}])"
            ]
          },
          "execution_count": 23,
          "metadata": {},
          "output_type": "execute_result"
        }
      ],
      "source": [
        "testset.test_data[0]"
      ]
    },
    {
      "cell_type": "markdown",
      "metadata": {
        "id": "vrPsVwUAWFWB"
      },
      "source": [
        "### Generating Responses with RAG Pipeline\n",
        "\n",
        "Now that we have some QC pairs, and some ground truths, let's evaluate our RAG pipeline using Ragas.\n",
        "\n",
        "The process is, again, quite straightforward - thanks to Ragas and LangChain!\n",
        "\n",
        "Let's start by extracting our questions and ground truths from our create testset.\n",
        "\n",
        "We can start by converting our test dataset into a Pandas DataFrame."
      ]
    },
    {
      "cell_type": "code",
      "execution_count": 24,
      "metadata": {
        "id": "frvzu1YxX8kY"
      },
      "outputs": [],
      "source": [
        "test_df = testset.to_pandas()"
      ]
    },
    {
      "cell_type": "code",
      "execution_count": 25,
      "metadata": {
        "colab": {
          "base_uri": "https://localhost:8080/",
          "height": 1000
        },
        "id": "GFKMIY8IZU8m",
        "outputId": "ed137f4f-df2c-41fa-d868-802d30076ea0"
      },
      "outputs": [
        {
          "data": {
            "text/html": [
              "<div>\n",
              "<style scoped>\n",
              "    .dataframe tbody tr th:only-of-type {\n",
              "        vertical-align: middle;\n",
              "    }\n",
              "\n",
              "    .dataframe tbody tr th {\n",
              "        vertical-align: top;\n",
              "    }\n",
              "\n",
              "    .dataframe thead th {\n",
              "        text-align: right;\n",
              "    }\n",
              "</style>\n",
              "<table border=\"1\" class=\"dataframe\">\n",
              "  <thead>\n",
              "    <tr style=\"text-align: right;\">\n",
              "      <th></th>\n",
              "      <th>question</th>\n",
              "      <th>contexts</th>\n",
              "      <th>ground_truth</th>\n",
              "      <th>evolution_type</th>\n",
              "      <th>metadata</th>\n",
              "      <th>episode_done</th>\n",
              "    </tr>\n",
              "  </thead>\n",
              "  <tbody>\n",
              "    <tr>\n",
              "      <th>0</th>\n",
              "      <td>How can engaging in conversation through blogg...</td>\n",
              "      <td>[looking for funding to blog — about their sta...</td>\n",
              "      <td>Engaging in conversation through blogging can ...</td>\n",
              "      <td>simple</td>\n",
              "      <td>[{'source': 'https://d1lamhf6l6yk6d.cloudfront...</td>\n",
              "      <td>True</td>\n",
              "    </tr>\n",
              "    <tr>\n",
              "      <th>1</th>\n",
              "      <td>How can structured procrastination be used to ...</td>\n",
              "      <td>[like?\\nStructured procrastination\\nThis is a ...</td>\n",
              "      <td>You should use structured procrastination to y...</td>\n",
              "      <td>simple</td>\n",
              "      <td>[{'source': 'https://d1lamhf6l6yk6d.cloudfront...</td>\n",
              "      <td>True</td>\n",
              "    </tr>\n",
              "    <tr>\n",
              "      <th>2</th>\n",
              "      <td>How does the tendency for quick elimination of...</td>\n",
              "      <td>[Four: Doubt-Avoidance Tendency\\nThe brain of ...</td>\n",
              "      <td>The tendency for quick elimination of doubt in...</td>\n",
              "      <td>simple</td>\n",
              "      <td>[{'source': 'https://d1lamhf6l6yk6d.cloudfront...</td>\n",
              "      <td>True</td>\n",
              "    </tr>\n",
              "    <tr>\n",
              "      <th>3</th>\n",
              "      <td>Who is John Perry and what is his concept of S...</td>\n",
              "      <td>[like?\\nStructured procrastination\\nThis is a ...</td>\n",
              "      <td>John Perry is a philosophy professor at Stanfo...</td>\n",
              "      <td>simple</td>\n",
              "      <td>[{'source': 'https://d1lamhf6l6yk6d.cloudfront...</td>\n",
              "      <td>True</td>\n",
              "    </tr>\n",
              "    <tr>\n",
              "      <th>4</th>\n",
              "      <td>Are the anticipated career peaks for creators ...</td>\n",
              "      <td>[These three components are conspicuously link...</td>\n",
              "      <td>nan</td>\n",
              "      <td>simple</td>\n",
              "      <td>[{'source': 'https://d1lamhf6l6yk6d.cloudfront...</td>\n",
              "      <td>True</td>\n",
              "    </tr>\n",
              "    <tr>\n",
              "      <th>5</th>\n",
              "      <td>Why is it important to develop concrete skills...</td>\n",
              "      <td>[studying whatever you love the most, whether ...</td>\n",
              "      <td>If you intend to have an impact on the world, ...</td>\n",
              "      <td>simple</td>\n",
              "      <td>[{'source': 'https://d1lamhf6l6yk6d.cloudfront...</td>\n",
              "      <td>True</td>\n",
              "    </tr>\n",
              "    <tr>\n",
              "      <th>6</th>\n",
              "      <td>How does the Liking/Loving Tendency affect the...</td>\n",
              "      <td>[One very practical consequence of Liking/Lovi...</td>\n",
              "      <td>The Liking/Loving Tendency affects the behavio...</td>\n",
              "      <td>simple</td>\n",
              "      <td>[{'source': 'https://d1lamhf6l6yk6d.cloudfront...</td>\n",
              "      <td>True</td>\n",
              "    </tr>\n",
              "    <tr>\n",
              "      <th>7</th>\n",
              "      <td>How important is it for a startup to focus on ...</td>\n",
              "      <td>[developing a large market, as opposed to Xght...</td>\n",
              "      <td>It is therefore much more important for a star...</td>\n",
              "      <td>simple</td>\n",
              "      <td>[{'source': 'https://d1lamhf6l6yk6d.cloudfront...</td>\n",
              "      <td>True</td>\n",
              "    </tr>\n",
              "    <tr>\n",
              "      <th>8</th>\n",
              "      <td>How does the emotional rollercoaster impact te...</td>\n",
              "      <td>[(In case you were wondering, by the way, the ...</td>\n",
              "      <td>The emotional rollercoaster can wreak havoc on...</td>\n",
              "      <td>simple</td>\n",
              "      <td>[{'source': 'https://d1lamhf6l6yk6d.cloudfront...</td>\n",
              "      <td>True</td>\n",
              "    </tr>\n",
              "    <tr>\n",
              "      <th>9</th>\n",
              "      <td>How does the Inconsistency-Avoidance Tendency ...</td>\n",
              "      <td>[Five: Inconsistency-Avoidance Tendency\\n[Peop...</td>\n",
              "      <td>The Inconsistency-Avoidance Tendency affects p...</td>\n",
              "      <td>simple</td>\n",
              "      <td>[{'source': 'https://d1lamhf6l6yk6d.cloudfront...</td>\n",
              "      <td>True</td>\n",
              "    </tr>\n",
              "    <tr>\n",
              "      <th>10</th>\n",
              "      <td>How does the startup team's caliber affect the...</td>\n",
              "      <td>[Let’s start by deXning terms.\\nThe caliber of...</td>\n",
              "      <td>nan</td>\n",
              "      <td>multi_context</td>\n",
              "      <td>[{'source': 'https://d1lamhf6l6yk6d.cloudfront...</td>\n",
              "      <td>True</td>\n",
              "    </tr>\n",
              "    <tr>\n",
              "      <th>11</th>\n",
              "      <td>How does perceived risk impact decision-making...</td>\n",
              "      <td>[sonal relationships within the group — so the...</td>\n",
              "      <td>The desire to be liked in a startup with multi...</td>\n",
              "      <td>multi_context</td>\n",
              "      <td>[{'source': 'https://d1lamhf6l6yk6d.cloudfront...</td>\n",
              "      <td>True</td>\n",
              "    </tr>\n",
              "    <tr>\n",
              "      <th>12</th>\n",
              "      <td>What advantages does a technical degree offer ...</td>\n",
              "      <td>[•\\nPlus, technical degrees teach you how thin...</td>\n",
              "      <td>Technical degrees offer the advantage of teach...</td>\n",
              "      <td>multi_context</td>\n",
              "      <td>[{'source': 'https://d1lamhf6l6yk6d.cloudfront...</td>\n",
              "      <td>True</td>\n",
              "    </tr>\n",
              "    <tr>\n",
              "      <th>13</th>\n",
              "      <td>What is the purpose of using temporary subfold...</td>\n",
              "      <td>[you can reply to a lot of messages with “I’m ...</td>\n",
              "      <td>The purpose of using temporary subfolders in e...</td>\n",
              "      <td>multi_context</td>\n",
              "      <td>[{'source': 'https://d1lamhf6l6yk6d.cloudfront...</td>\n",
              "      <td>True</td>\n",
              "    </tr>\n",
              "    <tr>\n",
              "      <th>14</th>\n",
              "      <td>What psychological tendency causes resistance ...</td>\n",
              "      <td>[Five: Inconsistency-Avoidance Tendency\\n[Peop...</td>\n",
              "      <td>Inconsistency-Avoidance Tendency is the psycho...</td>\n",
              "      <td>multi_context</td>\n",
              "      <td>[{'source': 'https://d1lamhf6l6yk6d.cloudfront...</td>\n",
              "      <td>True</td>\n",
              "    </tr>\n",
              "    <tr>\n",
              "      <th>15</th>\n",
              "      <td>What factors contribute to high employee turno...</td>\n",
              "      <td>[people joining the company, people leaving th...</td>\n",
              "      <td>The factors that contribute to high employee t...</td>\n",
              "      <td>multi_context</td>\n",
              "      <td>[{'source': 'https://d1lamhf6l6yk6d.cloudfront...</td>\n",
              "      <td>True</td>\n",
              "    </tr>\n",
              "    <tr>\n",
              "      <th>16</th>\n",
              "      <td>How does the fast pace in startups help in sta...</td>\n",
              "      <td>[would have spent 10 or 20 or 30 years buildin...</td>\n",
              "      <td>The fast pace in startups allows for reduced t...</td>\n",
              "      <td>multi_context</td>\n",
              "      <td>[{'source': 'https://d1lamhf6l6yk6d.cloudfront...</td>\n",
              "      <td>True</td>\n",
              "    </tr>\n",
              "    <tr>\n",
              "      <th>17</th>\n",
              "      <td>Why offer option packages to ambitious manager...</td>\n",
              "      <td>[strong, sharp, aggressive, ambitious director...</td>\n",
              "      <td>nan</td>\n",
              "      <td>reasoning</td>\n",
              "      <td>[{'source': 'https://d1lamhf6l6yk6d.cloudfront...</td>\n",
              "      <td>True</td>\n",
              "    </tr>\n",
              "    <tr>\n",
              "      <th>18</th>\n",
              "      <td>How does a hyper-controlling manager's negativ...</td>\n",
              "      <td>[added humor value.]\\nWhile I enjoyed Marc’s p...</td>\n",
              "      <td>The hyper-controlling manager with a severe pe...</td>\n",
              "      <td>reasoning</td>\n",
              "      <td>[{'source': 'https://d1lamhf6l6yk6d.cloudfront...</td>\n",
              "      <td>True</td>\n",
              "    </tr>\n",
              "  </tbody>\n",
              "</table>\n",
              "</div>"
            ],
            "text/plain": [
              "                                             question  \\\n",
              "0   How can engaging in conversation through blogg...   \n",
              "1   How can structured procrastination be used to ...   \n",
              "2   How does the tendency for quick elimination of...   \n",
              "3   Who is John Perry and what is his concept of S...   \n",
              "4   Are the anticipated career peaks for creators ...   \n",
              "5   Why is it important to develop concrete skills...   \n",
              "6   How does the Liking/Loving Tendency affect the...   \n",
              "7   How important is it for a startup to focus on ...   \n",
              "8   How does the emotional rollercoaster impact te...   \n",
              "9   How does the Inconsistency-Avoidance Tendency ...   \n",
              "10  How does the startup team's caliber affect the...   \n",
              "11  How does perceived risk impact decision-making...   \n",
              "12  What advantages does a technical degree offer ...   \n",
              "13  What is the purpose of using temporary subfold...   \n",
              "14  What psychological tendency causes resistance ...   \n",
              "15  What factors contribute to high employee turno...   \n",
              "16  How does the fast pace in startups help in sta...   \n",
              "17  Why offer option packages to ambitious manager...   \n",
              "18  How does a hyper-controlling manager's negativ...   \n",
              "\n",
              "                                             contexts  \\\n",
              "0   [looking for funding to blog — about their sta...   \n",
              "1   [like?\\nStructured procrastination\\nThis is a ...   \n",
              "2   [Four: Doubt-Avoidance Tendency\\nThe brain of ...   \n",
              "3   [like?\\nStructured procrastination\\nThis is a ...   \n",
              "4   [These three components are conspicuously link...   \n",
              "5   [studying whatever you love the most, whether ...   \n",
              "6   [One very practical consequence of Liking/Lovi...   \n",
              "7   [developing a large market, as opposed to Xght...   \n",
              "8   [(In case you were wondering, by the way, the ...   \n",
              "9   [Five: Inconsistency-Avoidance Tendency\\n[Peop...   \n",
              "10  [Let’s start by deXning terms.\\nThe caliber of...   \n",
              "11  [sonal relationships within the group — so the...   \n",
              "12  [•\\nPlus, technical degrees teach you how thin...   \n",
              "13  [you can reply to a lot of messages with “I’m ...   \n",
              "14  [Five: Inconsistency-Avoidance Tendency\\n[Peop...   \n",
              "15  [people joining the company, people leaving th...   \n",
              "16  [would have spent 10 or 20 or 30 years buildin...   \n",
              "17  [strong, sharp, aggressive, ambitious director...   \n",
              "18  [added humor value.]\\nWhile I enjoyed Marc’s p...   \n",
              "\n",
              "                                         ground_truth evolution_type  \\\n",
              "0   Engaging in conversation through blogging can ...         simple   \n",
              "1   You should use structured procrastination to y...         simple   \n",
              "2   The tendency for quick elimination of doubt in...         simple   \n",
              "3   John Perry is a philosophy professor at Stanfo...         simple   \n",
              "4                                                 nan         simple   \n",
              "5   If you intend to have an impact on the world, ...         simple   \n",
              "6   The Liking/Loving Tendency affects the behavio...         simple   \n",
              "7   It is therefore much more important for a star...         simple   \n",
              "8   The emotional rollercoaster can wreak havoc on...         simple   \n",
              "9   The Inconsistency-Avoidance Tendency affects p...         simple   \n",
              "10                                                nan  multi_context   \n",
              "11  The desire to be liked in a startup with multi...  multi_context   \n",
              "12  Technical degrees offer the advantage of teach...  multi_context   \n",
              "13  The purpose of using temporary subfolders in e...  multi_context   \n",
              "14  Inconsistency-Avoidance Tendency is the psycho...  multi_context   \n",
              "15  The factors that contribute to high employee t...  multi_context   \n",
              "16  The fast pace in startups allows for reduced t...  multi_context   \n",
              "17                                                nan      reasoning   \n",
              "18  The hyper-controlling manager with a severe pe...      reasoning   \n",
              "\n",
              "                                             metadata  episode_done  \n",
              "0   [{'source': 'https://d1lamhf6l6yk6d.cloudfront...          True  \n",
              "1   [{'source': 'https://d1lamhf6l6yk6d.cloudfront...          True  \n",
              "2   [{'source': 'https://d1lamhf6l6yk6d.cloudfront...          True  \n",
              "3   [{'source': 'https://d1lamhf6l6yk6d.cloudfront...          True  \n",
              "4   [{'source': 'https://d1lamhf6l6yk6d.cloudfront...          True  \n",
              "5   [{'source': 'https://d1lamhf6l6yk6d.cloudfront...          True  \n",
              "6   [{'source': 'https://d1lamhf6l6yk6d.cloudfront...          True  \n",
              "7   [{'source': 'https://d1lamhf6l6yk6d.cloudfront...          True  \n",
              "8   [{'source': 'https://d1lamhf6l6yk6d.cloudfront...          True  \n",
              "9   [{'source': 'https://d1lamhf6l6yk6d.cloudfront...          True  \n",
              "10  [{'source': 'https://d1lamhf6l6yk6d.cloudfront...          True  \n",
              "11  [{'source': 'https://d1lamhf6l6yk6d.cloudfront...          True  \n",
              "12  [{'source': 'https://d1lamhf6l6yk6d.cloudfront...          True  \n",
              "13  [{'source': 'https://d1lamhf6l6yk6d.cloudfront...          True  \n",
              "14  [{'source': 'https://d1lamhf6l6yk6d.cloudfront...          True  \n",
              "15  [{'source': 'https://d1lamhf6l6yk6d.cloudfront...          True  \n",
              "16  [{'source': 'https://d1lamhf6l6yk6d.cloudfront...          True  \n",
              "17  [{'source': 'https://d1lamhf6l6yk6d.cloudfront...          True  \n",
              "18  [{'source': 'https://d1lamhf6l6yk6d.cloudfront...          True  "
            ]
          },
          "execution_count": 25,
          "metadata": {},
          "output_type": "execute_result"
        }
      ],
      "source": [
        "test_df"
      ]
    },
    {
      "cell_type": "code",
      "execution_count": 26,
      "metadata": {
        "id": "xAiXbVmLYSoC"
      },
      "outputs": [],
      "source": [
        "test_questions = test_df[\"question\"].values.tolist()\n",
        "test_groundtruths = test_df[\"ground_truth\"].values.tolist()"
      ]
    },
    {
      "cell_type": "markdown",
      "metadata": {
        "id": "aE5rfMLfbqKH"
      },
      "source": [
        "Now we'll generate responses using our RAG pipeline using the questions we've generated - we'll also need to collect our retrieved contexts for each question.\n",
        "\n",
        "We'll do this in a simple loop to see exactly what's happening!"
      ]
    },
    {
      "cell_type": "code",
      "execution_count": 27,
      "metadata": {
        "id": "9_AayvT1dAQN"
      },
      "outputs": [],
      "source": [
        "answers = []\n",
        "contexts = []\n",
        "\n",
        "for question in test_questions:\n",
        "  response = retrieval_augmented_qa_chain.invoke({\"question\" : question})\n",
        "  answers.append(response[\"response\"].content)\n",
        "  contexts.append([context.page_content for context in response[\"context\"]])"
      ]
    },
    {
      "cell_type": "markdown",
      "metadata": {
        "id": "opHaHmYDeBfC"
      },
      "source": [
        "Now we can wrap our information in a Hugging Face dataset for use in the Ragas library."
      ]
    },
    {
      "cell_type": "code",
      "execution_count": 28,
      "metadata": {
        "id": "fY48YZITeHy-"
      },
      "outputs": [],
      "source": [
        "from datasets import Dataset\n",
        "\n",
        "response_dataset = Dataset.from_dict({\n",
        "    \"question\" : test_questions,\n",
        "    \"answer\" : answers,\n",
        "    \"contexts\" : contexts,\n",
        "    \"ground_truth\" : test_groundtruths\n",
        "})"
      ]
    },
    {
      "cell_type": "markdown",
      "metadata": {
        "id": "mmeVvQaZeogE"
      },
      "source": [
        "Let's take a peek and see what that looks like!"
      ]
    },
    {
      "cell_type": "code",
      "execution_count": 29,
      "metadata": {
        "colab": {
          "base_uri": "https://localhost:8080/"
        },
        "id": "pOpydvc8eqNM",
        "outputId": "f924b59d-eb6b-4c1a-9d18-f545c4e2c724"
      },
      "outputs": [
        {
          "data": {
            "text/plain": [
              "{'question': 'How can engaging in conversation through blogging help an entrepreneur in their search for funding?',\n",
              " 'answer': \"Engaging in conversation through blogging can help an entrepreneur in their search for funding by putting them in the flow of conversation, which can lead to interactions with venture capitalists (VCs) through the normal medium of blogging. Additionally, VCs who blog may encourage readers to communicate with them in various ways, including soliciting email pitches in certain startup categories of interest to them. Furthermore, by reading an entrepreneur's blog, a VC can get a sense of who the entrepreneur is and their company, which can be beneficial when the VC decides to take a look at the entrepreneur and their company.\",\n",
              " 'contexts': ['esting things going on, about their point of view. This puts an\\nentrepreneur in the Yow of conversation, which can lead to\\ninteraction with VCs through the normal medium of blogging.',\n",
              "  'At best, a VC blogger may encourage her readers to communi-\\ncate with her in various ways, including soliciting email pitches\\nin certain startup categories of interest to her.',\n",
              "  'in appropriate ways.\\nAt the very least you will start to get a really good sense of which\\nVCs who blog are interested in which kinds of companies.',\n",
              "  'And, when a VC does decide to take a look at you and your com-\\npany, she can read your blog to get a sense of who you are and\\n22\\nThe Pmarca Blog Archives'],\n",
              " 'ground_truth': 'Engaging in conversation through blogging can help an entrepreneur in their search for funding by putting them in the flow of conversation and potentially leading to interaction with venture capitalists (VCs). When a VC decides to take a look at the entrepreneur and their company, they can read the blog to get a sense of who the entrepreneur is.'}"
            ]
          },
          "execution_count": 29,
          "metadata": {},
          "output_type": "execute_result"
        }
      ],
      "source": [
        "response_dataset[0]"
      ]
    },
    {
      "cell_type": "markdown",
      "metadata": {
        "id": "oM4fmAnsBmL2"
      },
      "source": [
        "# 🤝 Breakout Room Part #2"
      ]
    },
    {
      "cell_type": "markdown",
      "metadata": {
        "id": "xbsFm5FievJI"
      },
      "source": [
        "## Task 1: Evaluating our Pipeline with Ragas\n",
        "\n",
        "Now that we have our response dataset - we can finally get into the \"meat\" of Ragas - evaluation!\n",
        "\n",
        "First, we'll import the desired metrics, then we can use them to evaluate our created dataset!\n",
        "\n",
        "Check out the specific metrics we'll be using in the Ragas documentation:\n",
        "\n",
        "- [Faithfulness](https://docs.ragas.io/en/stable/concepts/metrics/faithfulness.html)\n",
        "- [Answer Relevancy](https://docs.ragas.io/en/stable/concepts/metrics/answer_relevance.html)\n",
        "- [Context Precision](https://docs.ragas.io/en/stable/concepts/metrics/context_precision.html)\n",
        "- [Context Recall](https://docs.ragas.io/en/stable/concepts/metrics/context_recall.html)\n",
        "- [Answer Correctness](https://docs.ragas.io/en/stable/concepts/metrics/answer_correctness.html)\n",
        "\n",
        "See the accompanied presentation for more in-depth explanations about each of the metrics!"
      ]
    },
    {
      "cell_type": "code",
      "execution_count": 30,
      "metadata": {
        "id": "R2PXwyt8e5aW"
      },
      "outputs": [],
      "source": [
        "from ragas import evaluate\n",
        "from ragas.metrics import (\n",
        "    faithfulness,\n",
        "    answer_relevancy,\n",
        "    answer_correctness,\n",
        "    context_recall,\n",
        "    context_precision,\n",
        ")\n",
        "\n",
        "metrics = [\n",
        "    faithfulness,\n",
        "    answer_relevancy,\n",
        "    context_recall,\n",
        "    context_precision,\n",
        "    answer_correctness,\n",
        "]"
      ]
    },
    {
      "cell_type": "markdown",
      "metadata": {
        "id": "Kx-vlsx_hrtV"
      },
      "source": [
        "All that's left to do is call \"evaluate\" and away we go!"
      ]
    },
    {
      "cell_type": "markdown",
      "metadata": {
        "colab": {
          "base_uri": "https://localhost:8080/",
          "height": 101,
          "referenced_widgets": [
            "32514310070a426ea247c9f1bc66b630",
            "3e7520df71de40e0af5589b6aeb95171",
            "05390d20f1b445b5b02529ee7a99f6d6",
            "3380693903474d2585638f7e3458fcd6",
            "1d43002974f24e8a8b6961cddc04ce47",
            "97abe811c89c44dcacd7e39074d22546",
            "87a3d4b2ed5f4f1ca895c6a1981eb847",
            "589c2004f5504a239615dec8671785d0",
            "25d3337c457f4c748ed8bf78f5a27fe8",
            "31064d2adec14238a609d3f9791c64f3",
            "4f482b8ce7a54c1787394fb7d90391a0"
          ]
        },
        "id": "DhlcfJ4lgYVI",
        "outputId": "85fa2a99-7506-45d1-a674-ca9f55372264"
      },
      "source": [
        "results = evaluate(response_dataset, metrics,run_config=run_config)"
      ]
    },
    {
      "cell_type": "code",
      "execution_count": 32,
      "metadata": {
        "colab": {
          "base_uri": "https://localhost:8080/"
        },
        "id": "UqPArpSrgwDD",
        "outputId": "e8f3cb2f-8a38-47a5-f54d-ec80eaca8448"
      },
      "outputs": [
        {
          "data": {
            "text/plain": [
              "{'faithfulness': 0.6485, 'answer_relevancy': 0.8435, 'context_recall': 0.7281, 'context_precision': 0.8275, 'answer_correctness': 0.4801}"
            ]
          },
          "execution_count": 32,
          "metadata": {},
          "output_type": "execute_result"
        }
      ],
      "source": [
        "results"
      ]
    },
    {
      "cell_type": "code",
      "execution_count": 33,
      "metadata": {
        "colab": {
          "base_uri": "https://localhost:8080/",
          "height": 1000
        },
        "id": "2nsGzj8DhP9E",
        "outputId": "a10d6394-0ab7-48bf-96c5-acfc5992622f"
      },
      "outputs": [
        {
          "data": {
            "text/html": [
              "<div>\n",
              "<style scoped>\n",
              "    .dataframe tbody tr th:only-of-type {\n",
              "        vertical-align: middle;\n",
              "    }\n",
              "\n",
              "    .dataframe tbody tr th {\n",
              "        vertical-align: top;\n",
              "    }\n",
              "\n",
              "    .dataframe thead th {\n",
              "        text-align: right;\n",
              "    }\n",
              "</style>\n",
              "<table border=\"1\" class=\"dataframe\">\n",
              "  <thead>\n",
              "    <tr style=\"text-align: right;\">\n",
              "      <th></th>\n",
              "      <th>question</th>\n",
              "      <th>answer</th>\n",
              "      <th>contexts</th>\n",
              "      <th>ground_truth</th>\n",
              "      <th>faithfulness</th>\n",
              "      <th>answer_relevancy</th>\n",
              "      <th>context_recall</th>\n",
              "      <th>context_precision</th>\n",
              "      <th>answer_correctness</th>\n",
              "    </tr>\n",
              "  </thead>\n",
              "  <tbody>\n",
              "    <tr>\n",
              "      <th>0</th>\n",
              "      <td>How can engaging in conversation through blogg...</td>\n",
              "      <td>Engaging in conversation through blogging can ...</td>\n",
              "      <td>[esting things going on, about their point of ...</td>\n",
              "      <td>Engaging in conversation through blogging can ...</td>\n",
              "      <td>0.857143</td>\n",
              "      <td>1.000000</td>\n",
              "      <td>1.000000</td>\n",
              "      <td>1.000000</td>\n",
              "      <td>0.622478</td>\n",
              "    </tr>\n",
              "    <tr>\n",
              "      <th>1</th>\n",
              "      <td>How can structured procrastination be used to ...</td>\n",
              "      <td>Structured procrastination can be used to acco...</td>\n",
              "      <td>[standing.)\\nThe gist of Structured Procrastin...</td>\n",
              "      <td>You should use structured procrastination to y...</td>\n",
              "      <td>1.000000</td>\n",
              "      <td>0.969390</td>\n",
              "      <td>1.000000</td>\n",
              "      <td>1.000000</td>\n",
              "      <td>0.482758</td>\n",
              "    </tr>\n",
              "    <tr>\n",
              "      <th>2</th>\n",
              "      <td>How does the tendency for quick elimination of...</td>\n",
              "      <td>The tendency for quick elimination of doubt in...</td>\n",
              "      <td>[Four: Doubt-Avoidance Tendency\\nThe brain of ...</td>\n",
              "      <td>The tendency for quick elimination of doubt in...</td>\n",
              "      <td>0.666667</td>\n",
              "      <td>0.998119</td>\n",
              "      <td>1.000000</td>\n",
              "      <td>0.916667</td>\n",
              "      <td>0.655052</td>\n",
              "    </tr>\n",
              "    <tr>\n",
              "      <th>3</th>\n",
              "      <td>Who is John Perry and what is his concept of S...</td>\n",
              "      <td>John Perry is the genius mind behind the conce...</td>\n",
              "      <td>[the Apollo 11 mission, and it writes upside d...</td>\n",
              "      <td>John Perry is a philosophy professor at Stanfo...</td>\n",
              "      <td>1.000000</td>\n",
              "      <td>0.912391</td>\n",
              "      <td>1.000000</td>\n",
              "      <td>0.833333</td>\n",
              "      <td>0.544737</td>\n",
              "    </tr>\n",
              "    <tr>\n",
              "      <th>4</th>\n",
              "      <td>Are the anticipated career peaks for creators ...</td>\n",
              "      <td>Earlier</td>\n",
              "      <td>[early, end late, and produce at above-average...</td>\n",
              "      <td>nan</td>\n",
              "      <td>NaN</td>\n",
              "      <td>0.000000</td>\n",
              "      <td>0.333333</td>\n",
              "      <td>1.000000</td>\n",
              "      <td>0.953437</td>\n",
              "    </tr>\n",
              "    <tr>\n",
              "      <th>5</th>\n",
              "      <td>Why is it important to develop concrete skills...</td>\n",
              "      <td>It is important to develop concrete skills dur...</td>\n",
              "      <td>[Which undergraduate degrees are useful in\\nth...</td>\n",
              "      <td>If you intend to have an impact on the world, ...</td>\n",
              "      <td>1.000000</td>\n",
              "      <td>1.000000</td>\n",
              "      <td>1.000000</td>\n",
              "      <td>0.916667</td>\n",
              "      <td>0.570560</td>\n",
              "    </tr>\n",
              "    <tr>\n",
              "      <th>6</th>\n",
              "      <td>How does the Liking/Loving Tendency affect the...</td>\n",
              "      <td>The Liking/Loving Tendency can be a major impe...</td>\n",
              "      <td>[other facts to facilitate love.\\nThe applicat...</td>\n",
              "      <td>The Liking/Loving Tendency affects the behavio...</td>\n",
              "      <td>1.000000</td>\n",
              "      <td>0.933404</td>\n",
              "      <td>1.000000</td>\n",
              "      <td>1.000000</td>\n",
              "      <td>0.401900</td>\n",
              "    </tr>\n",
              "    <tr>\n",
              "      <th>7</th>\n",
              "      <td>How important is it for a startup to focus on ...</td>\n",
              "      <td>It is important for a startup to focus on deve...</td>\n",
              "      <td>[competitor, be sure to take a step back and s...</td>\n",
              "      <td>It is therefore much more important for a star...</td>\n",
              "      <td>0.000000</td>\n",
              "      <td>0.934026</td>\n",
              "      <td>1.000000</td>\n",
              "      <td>1.000000</td>\n",
              "      <td>0.479481</td>\n",
              "    </tr>\n",
              "    <tr>\n",
              "      <th>8</th>\n",
              "      <td>How does the emotional rollercoaster impact te...</td>\n",
              "      <td>The emotional rollercoaster wreaks havoc not j...</td>\n",
              "      <td>[This combines the Xrst and second items above...</td>\n",
              "      <td>The emotional rollercoaster can wreak havoc on...</td>\n",
              "      <td>0.666667</td>\n",
              "      <td>0.990438</td>\n",
              "      <td>0.500000</td>\n",
              "      <td>1.000000</td>\n",
              "      <td>0.425165</td>\n",
              "    </tr>\n",
              "    <tr>\n",
              "      <th>9</th>\n",
              "      <td>How does the Inconsistency-Avoidance Tendency ...</td>\n",
              "      <td>The Inconsistency-Avoidance Tendency makes peo...</td>\n",
              "      <td>[Five: Inconsistency-Avoidance Tendency\\n[Peop...</td>\n",
              "      <td>The Inconsistency-Avoidance Tendency affects p...</td>\n",
              "      <td>1.000000</td>\n",
              "      <td>0.931311</td>\n",
              "      <td>0.250000</td>\n",
              "      <td>1.000000</td>\n",
              "      <td>0.573948</td>\n",
              "    </tr>\n",
              "    <tr>\n",
              "      <th>10</th>\n",
              "      <td>How does the startup team's caliber affect the...</td>\n",
              "      <td>The startup team's caliber affects their abili...</td>\n",
              "      <td>[Let’s start by deXning terms.\\nThe caliber of...</td>\n",
              "      <td>nan</td>\n",
              "      <td>1.000000</td>\n",
              "      <td>0.926338</td>\n",
              "      <td>1.000000</td>\n",
              "      <td>0.000000</td>\n",
              "      <td>0.185118</td>\n",
              "    </tr>\n",
              "    <tr>\n",
              "      <th>11</th>\n",
              "      <td>How does perceived risk impact decision-making...</td>\n",
              "      <td>I don't know.</td>\n",
              "      <td>[What are the layers of risk for a high-tech\\n...</td>\n",
              "      <td>The desire to be liked in a startup with multi...</td>\n",
              "      <td>NaN</td>\n",
              "      <td>0.000000</td>\n",
              "      <td>0.000000</td>\n",
              "      <td>0.805556</td>\n",
              "      <td>0.181100</td>\n",
              "    </tr>\n",
              "    <tr>\n",
              "      <th>12</th>\n",
              "      <td>What advantages does a technical degree offer ...</td>\n",
              "      <td>A technical degree offers the advantage of dev...</td>\n",
              "      <td>[path to doing anything big.\\n•\\nPlus, technic...</td>\n",
              "      <td>Technical degrees offer the advantage of teach...</td>\n",
              "      <td>0.500000</td>\n",
              "      <td>0.926616</td>\n",
              "      <td>1.000000</td>\n",
              "      <td>1.000000</td>\n",
              "      <td>0.536634</td>\n",
              "    </tr>\n",
              "    <tr>\n",
              "      <th>13</th>\n",
              "      <td>What is the purpose of using temporary subfold...</td>\n",
              "      <td>The purpose of using temporary subfolders in e...</td>\n",
              "      <td>[jects or pressing issues go into temporary su...</td>\n",
              "      <td>The purpose of using temporary subfolders in e...</td>\n",
              "      <td>1.000000</td>\n",
              "      <td>0.944349</td>\n",
              "      <td>1.000000</td>\n",
              "      <td>1.000000</td>\n",
              "      <td>0.622855</td>\n",
              "    </tr>\n",
              "    <tr>\n",
              "      <th>14</th>\n",
              "      <td>What psychological tendency causes resistance ...</td>\n",
              "      <td>Inconsistency-Avoidance Tendency</td>\n",
              "      <td>[Five: Inconsistency-Avoidance Tendency\\n[Peop...</td>\n",
              "      <td>Inconsistency-Avoidance Tendency is the psycho...</td>\n",
              "      <td>0.000000</td>\n",
              "      <td>0.883602</td>\n",
              "      <td>1.000000</td>\n",
              "      <td>1.000000</td>\n",
              "      <td>0.236277</td>\n",
              "    </tr>\n",
              "    <tr>\n",
              "      <th>15</th>\n",
              "      <td>What factors contribute to high employee turno...</td>\n",
              "      <td>Factors such as bitterness, disillusionment, c...</td>\n",
              "      <td>[bitterness, disillusionment, cynicism, bad mo...</td>\n",
              "      <td>The factors that contribute to high employee t...</td>\n",
              "      <td>0.000000</td>\n",
              "      <td>0.957562</td>\n",
              "      <td>0.500000</td>\n",
              "      <td>0.250000</td>\n",
              "      <td>0.409863</td>\n",
              "    </tr>\n",
              "    <tr>\n",
              "      <th>16</th>\n",
              "      <td>How does the fast pace in startups help in sta...</td>\n",
              "      <td>The fast pace in startups helps in starting a ...</td>\n",
              "      <td>[and the hours.\\nBut, it’s really diZcult.\\nTh...</td>\n",
              "      <td>The fast pace in startups allows for reduced t...</td>\n",
              "      <td>0.333333</td>\n",
              "      <td>0.947050</td>\n",
              "      <td>0.250000</td>\n",
              "      <td>1.000000</td>\n",
              "      <td>0.566735</td>\n",
              "    </tr>\n",
              "    <tr>\n",
              "      <th>17</th>\n",
              "      <td>Why offer option packages to ambitious manager...</td>\n",
              "      <td>To hold onto great people for long periods of ...</td>\n",
              "      <td>[tance packages you possibly can, and get it d...</td>\n",
              "      <td>nan</td>\n",
              "      <td>0.000000</td>\n",
              "      <td>0.797548</td>\n",
              "      <td>0.000000</td>\n",
              "      <td>0.000000</td>\n",
              "      <td>0.189907</td>\n",
              "    </tr>\n",
              "    <tr>\n",
              "      <th>18</th>\n",
              "      <td>How does a hyper-controlling manager's negativ...</td>\n",
              "      <td>A hyper-controlling manager's negative impact ...</td>\n",
              "      <td>[instruction. They need to be micromanaged. On...</td>\n",
              "      <td>The hyper-controlling manager with a severe pe...</td>\n",
              "      <td>1.000000</td>\n",
              "      <td>0.974441</td>\n",
              "      <td>1.000000</td>\n",
              "      <td>1.000000</td>\n",
              "      <td>0.484053</td>\n",
              "    </tr>\n",
              "  </tbody>\n",
              "</table>\n",
              "</div>"
            ],
            "text/plain": [
              "                                             question  \\\n",
              "0   How can engaging in conversation through blogg...   \n",
              "1   How can structured procrastination be used to ...   \n",
              "2   How does the tendency for quick elimination of...   \n",
              "3   Who is John Perry and what is his concept of S...   \n",
              "4   Are the anticipated career peaks for creators ...   \n",
              "5   Why is it important to develop concrete skills...   \n",
              "6   How does the Liking/Loving Tendency affect the...   \n",
              "7   How important is it for a startup to focus on ...   \n",
              "8   How does the emotional rollercoaster impact te...   \n",
              "9   How does the Inconsistency-Avoidance Tendency ...   \n",
              "10  How does the startup team's caliber affect the...   \n",
              "11  How does perceived risk impact decision-making...   \n",
              "12  What advantages does a technical degree offer ...   \n",
              "13  What is the purpose of using temporary subfold...   \n",
              "14  What psychological tendency causes resistance ...   \n",
              "15  What factors contribute to high employee turno...   \n",
              "16  How does the fast pace in startups help in sta...   \n",
              "17  Why offer option packages to ambitious manager...   \n",
              "18  How does a hyper-controlling manager's negativ...   \n",
              "\n",
              "                                               answer  \\\n",
              "0   Engaging in conversation through blogging can ...   \n",
              "1   Structured procrastination can be used to acco...   \n",
              "2   The tendency for quick elimination of doubt in...   \n",
              "3   John Perry is the genius mind behind the conce...   \n",
              "4                                             Earlier   \n",
              "5   It is important to develop concrete skills dur...   \n",
              "6   The Liking/Loving Tendency can be a major impe...   \n",
              "7   It is important for a startup to focus on deve...   \n",
              "8   The emotional rollercoaster wreaks havoc not j...   \n",
              "9   The Inconsistency-Avoidance Tendency makes peo...   \n",
              "10  The startup team's caliber affects their abili...   \n",
              "11                                      I don't know.   \n",
              "12  A technical degree offers the advantage of dev...   \n",
              "13  The purpose of using temporary subfolders in e...   \n",
              "14                   Inconsistency-Avoidance Tendency   \n",
              "15  Factors such as bitterness, disillusionment, c...   \n",
              "16  The fast pace in startups helps in starting a ...   \n",
              "17  To hold onto great people for long periods of ...   \n",
              "18  A hyper-controlling manager's negative impact ...   \n",
              "\n",
              "                                             contexts  \\\n",
              "0   [esting things going on, about their point of ...   \n",
              "1   [standing.)\\nThe gist of Structured Procrastin...   \n",
              "2   [Four: Doubt-Avoidance Tendency\\nThe brain of ...   \n",
              "3   [the Apollo 11 mission, and it writes upside d...   \n",
              "4   [early, end late, and produce at above-average...   \n",
              "5   [Which undergraduate degrees are useful in\\nth...   \n",
              "6   [other facts to facilitate love.\\nThe applicat...   \n",
              "7   [competitor, be sure to take a step back and s...   \n",
              "8   [This combines the Xrst and second items above...   \n",
              "9   [Five: Inconsistency-Avoidance Tendency\\n[Peop...   \n",
              "10  [Let’s start by deXning terms.\\nThe caliber of...   \n",
              "11  [What are the layers of risk for a high-tech\\n...   \n",
              "12  [path to doing anything big.\\n•\\nPlus, technic...   \n",
              "13  [jects or pressing issues go into temporary su...   \n",
              "14  [Five: Inconsistency-Avoidance Tendency\\n[Peop...   \n",
              "15  [bitterness, disillusionment, cynicism, bad mo...   \n",
              "16  [and the hours.\\nBut, it’s really diZcult.\\nTh...   \n",
              "17  [tance packages you possibly can, and get it d...   \n",
              "18  [instruction. They need to be micromanaged. On...   \n",
              "\n",
              "                                         ground_truth  faithfulness  \\\n",
              "0   Engaging in conversation through blogging can ...      0.857143   \n",
              "1   You should use structured procrastination to y...      1.000000   \n",
              "2   The tendency for quick elimination of doubt in...      0.666667   \n",
              "3   John Perry is a philosophy professor at Stanfo...      1.000000   \n",
              "4                                                 nan           NaN   \n",
              "5   If you intend to have an impact on the world, ...      1.000000   \n",
              "6   The Liking/Loving Tendency affects the behavio...      1.000000   \n",
              "7   It is therefore much more important for a star...      0.000000   \n",
              "8   The emotional rollercoaster can wreak havoc on...      0.666667   \n",
              "9   The Inconsistency-Avoidance Tendency affects p...      1.000000   \n",
              "10                                                nan      1.000000   \n",
              "11  The desire to be liked in a startup with multi...           NaN   \n",
              "12  Technical degrees offer the advantage of teach...      0.500000   \n",
              "13  The purpose of using temporary subfolders in e...      1.000000   \n",
              "14  Inconsistency-Avoidance Tendency is the psycho...      0.000000   \n",
              "15  The factors that contribute to high employee t...      0.000000   \n",
              "16  The fast pace in startups allows for reduced t...      0.333333   \n",
              "17                                                nan      0.000000   \n",
              "18  The hyper-controlling manager with a severe pe...      1.000000   \n",
              "\n",
              "    answer_relevancy  context_recall  context_precision  answer_correctness  \n",
              "0           1.000000        1.000000           1.000000            0.622478  \n",
              "1           0.969390        1.000000           1.000000            0.482758  \n",
              "2           0.998119        1.000000           0.916667            0.655052  \n",
              "3           0.912391        1.000000           0.833333            0.544737  \n",
              "4           0.000000        0.333333           1.000000            0.953437  \n",
              "5           1.000000        1.000000           0.916667            0.570560  \n",
              "6           0.933404        1.000000           1.000000            0.401900  \n",
              "7           0.934026        1.000000           1.000000            0.479481  \n",
              "8           0.990438        0.500000           1.000000            0.425165  \n",
              "9           0.931311        0.250000           1.000000            0.573948  \n",
              "10          0.926338        1.000000           0.000000            0.185118  \n",
              "11          0.000000        0.000000           0.805556            0.181100  \n",
              "12          0.926616        1.000000           1.000000            0.536634  \n",
              "13          0.944349        1.000000           1.000000            0.622855  \n",
              "14          0.883602        1.000000           1.000000            0.236277  \n",
              "15          0.957562        0.500000           0.250000            0.409863  \n",
              "16          0.947050        0.250000           1.000000            0.566735  \n",
              "17          0.797548        0.000000           0.000000            0.189907  \n",
              "18          0.974441        1.000000           1.000000            0.484053  "
            ]
          },
          "execution_count": 33,
          "metadata": {},
          "output_type": "execute_result"
        }
      ],
      "source": [
        "results_df = results.to_pandas()\n",
        "results_df"
      ]
    },
    {
      "cell_type": "markdown",
      "metadata": {
        "id": "MWfiu_pLh3JL"
      },
      "source": [
        "## Task 2: Making Adjustments to our RAG Pipeline\n",
        "\n",
        "Now that we have established a baseline - we can see how any changes impact our pipeline's performance!\n",
        "\n",
        "Let's modify our retriever and see how that impacts our Ragas metrics!\n",
        "\n",
        "> NOTE: MultiQueryRetriever is expanded on [here](https://python.langchain.com/docs/modules/data_connection/retrievers/MultiQueryRetriever) but for now, the implementation is not important to our lesson!"
      ]
    },
    {
      "cell_type": "code",
      "execution_count": 34,
      "metadata": {
        "id": "nKIuM336isBL"
      },
      "outputs": [],
      "source": [
        "from langchain.retrievers import MultiQueryRetriever\n",
        "\n",
        "advanced_retriever = MultiQueryRetriever.from_llm(retriever=retriever, llm=primary_qa_llm)"
      ]
    },
    {
      "cell_type": "markdown",
      "metadata": {
        "id": "82rcj3L-i_c8"
      },
      "source": [
        "We'll also re-create our RAG pipeline using the abstractions that come packaged with LangChain v0.1.0!\n",
        "\n",
        "First, let's create a chain to \"stuff\" our documents into our context!"
      ]
    },
    {
      "cell_type": "code",
      "execution_count": 35,
      "metadata": {
        "id": "EfdCgTw7jC4i"
      },
      "outputs": [],
      "source": [
        "from langchain.chains.combine_documents import create_stuff_documents_chain\n",
        "\n",
        "document_chain = create_stuff_documents_chain(primary_qa_llm, retrieval_qa_prompt)"
      ]
    },
    {
      "cell_type": "markdown",
      "metadata": {
        "id": "ozYl5WdPnvLu"
      },
      "source": [
        "Next, we'll create the retrieval chain!"
      ]
    },
    {
      "cell_type": "code",
      "execution_count": 36,
      "metadata": {
        "id": "9AK7wHVnn0U3"
      },
      "outputs": [],
      "source": [
        "from langchain.chains import create_retrieval_chain\n",
        "\n",
        "retrieval_chain = create_retrieval_chain(advanced_retriever, document_chain)"
      ]
    },
    {
      "cell_type": "code",
      "execution_count": 37,
      "metadata": {
        "id": "cmKORMfMoCjL"
      },
      "outputs": [],
      "source": [
        "response = retrieval_chain.invoke({\"input\": \"Who is Taylor Swift fueding with?\"})"
      ]
    },
    {
      "cell_type": "code",
      "execution_count": 38,
      "metadata": {
        "colab": {
          "base_uri": "https://localhost:8080/"
        },
        "id": "ICMsUWbWoOpf",
        "outputId": "1c2a8c65-0da8-44ef-d6e4-79dcca738777"
      },
      "outputs": [
        {
          "name": "stdout",
          "output_type": "stream",
          "text": [
            "I'm sorry, but based on the context provided, I do not have information about any feud involving Taylor Swift.\n"
          ]
        }
      ],
      "source": [
        "print(response[\"answer\"])"
      ]
    },
    {
      "cell_type": "code",
      "execution_count": 39,
      "metadata": {
        "id": "5s8ZGasYoVi6"
      },
      "outputs": [],
      "source": [
        "response = retrieval_chain.invoke({\"input\": \"Why are they fueding?\"})"
      ]
    },
    {
      "cell_type": "code",
      "execution_count": 40,
      "metadata": {
        "colab": {
          "base_uri": "https://localhost:8080/"
        },
        "id": "ADNCdW4hoYT8",
        "outputId": "40860a4e-75fb-486e-b1e6-34a7eb2c5295"
      },
      "outputs": [
        {
          "name": "stdout",
          "output_type": "stream",
          "text": [
            "The text does not provide any information about specific individuals or groups feuding. It mainly discusses human tendencies towards dislike and hate, the history of war, and factors contributing to success in different industries.\n"
          ]
        }
      ],
      "source": [
        "print(response[\"answer\"])"
      ]
    },
    {
      "cell_type": "markdown",
      "metadata": {
        "id": "OxkU0HdpoaiE"
      },
      "source": [
        "Well, just from those responses this chain *feels* better - but lets see how it performs on our eval!\n",
        "\n",
        "Let's do the same process we did before to collect our pipeline's contexts and answers."
      ]
    },
    {
      "cell_type": "code",
      "execution_count": 41,
      "metadata": {
        "id": "kO8cWxn2oinT"
      },
      "outputs": [],
      "source": [
        "answers = []\n",
        "contexts = []\n",
        "\n",
        "for question in test_questions:\n",
        "  response = retrieval_chain.invoke({\"input\" : question})\n",
        "  answers.append(response[\"answer\"])\n",
        "  contexts.append([context.page_content for context in response[\"context\"]])"
      ]
    },
    {
      "cell_type": "markdown",
      "metadata": {
        "id": "tgagfhPUtM2j"
      },
      "source": [
        "Now we can convert this into a dataset, just like we did before."
      ]
    },
    {
      "cell_type": "code",
      "execution_count": 42,
      "metadata": {
        "id": "5FcllGeSovP8"
      },
      "outputs": [],
      "source": [
        "response_dataset_advanced_retrieval = Dataset.from_dict({\n",
        "    \"question\" : test_questions,\n",
        "    \"answer\" : answers,\n",
        "    \"contexts\" : contexts,\n",
        "    \"ground_truth\" : test_groundtruths\n",
        "})"
      ]
    },
    {
      "cell_type": "markdown",
      "metadata": {
        "id": "dELYabwktR2C"
      },
      "source": [
        "Let's evaluate on the same metrics we did for the first pipeline and see how it does!"
      ]
    },
    {
      "cell_type": "markdown",
      "metadata": {
        "colab": {
          "base_uri": "https://localhost:8080/",
          "height": 49,
          "referenced_widgets": [
            "831b4dab6ff94d239d2824d390e01308",
            "4cefefc6cf714a68924e1b8d5e59aba9",
            "fd7f5542a22d44388dda12ca19443a1f",
            "93bf9b194c04460abffa192c19bcf67b",
            "83985f58744a46cfbd001ce5957f3e4a",
            "5c2b92989d7448e9bf65306c4f2f7d93",
            "a34b3906cd514234a115c7bf6757ca9d",
            "a03fefb9fa5a40ff947dc4ccd3c80318",
            "40343486e3ea4e5fae55b5a528f139d8",
            "cee2268aa21643e6ad77117c67ec1600",
            "c79f28da88f44d69aa87905c089df333"
          ]
        },
        "id": "d7uHseWJo2TU",
        "outputId": "8facfba9-467a-4129-b381-ddbd0a952f28"
      },
      "source": [
        "advanced_retrieval_results = evaluate(response_dataset_advanced_retrieval, metrics,run_config=run_config)"
      ]
    },
    {
      "cell_type": "code",
      "execution_count": 44,
      "metadata": {
        "colab": {
          "base_uri": "https://localhost:8080/",
          "height": 1000
        },
        "id": "JsFd0uDd2n5E",
        "outputId": "0922ab45-c16a-48c4-c9c2-3647ff130391"
      },
      "outputs": [
        {
          "data": {
            "text/html": [
              "<div>\n",
              "<style scoped>\n",
              "    .dataframe tbody tr th:only-of-type {\n",
              "        vertical-align: middle;\n",
              "    }\n",
              "\n",
              "    .dataframe tbody tr th {\n",
              "        vertical-align: top;\n",
              "    }\n",
              "\n",
              "    .dataframe thead th {\n",
              "        text-align: right;\n",
              "    }\n",
              "</style>\n",
              "<table border=\"1\" class=\"dataframe\">\n",
              "  <thead>\n",
              "    <tr style=\"text-align: right;\">\n",
              "      <th></th>\n",
              "      <th>question</th>\n",
              "      <th>answer</th>\n",
              "      <th>contexts</th>\n",
              "      <th>ground_truth</th>\n",
              "      <th>faithfulness</th>\n",
              "      <th>answer_relevancy</th>\n",
              "      <th>context_recall</th>\n",
              "      <th>context_precision</th>\n",
              "      <th>answer_correctness</th>\n",
              "    </tr>\n",
              "  </thead>\n",
              "  <tbody>\n",
              "    <tr>\n",
              "      <th>0</th>\n",
              "      <td>How can engaging in conversation through blogg...</td>\n",
              "      <td>Engaging in conversation through blogging can ...</td>\n",
              "      <td>[esting things going on, about their point of ...</td>\n",
              "      <td>Engaging in conversation through blogging can ...</td>\n",
              "      <td>0.666667</td>\n",
              "      <td>1.000000</td>\n",
              "      <td>1.000000</td>\n",
              "      <td>1.000000</td>\n",
              "      <td>0.559666</td>\n",
              "    </tr>\n",
              "    <tr>\n",
              "      <th>1</th>\n",
              "      <td>How can structured procrastination be used to ...</td>\n",
              "      <td>Structured procrastination can be used to acco...</td>\n",
              "      <td>[standing.)\\nThe gist of Structured Procrastin...</td>\n",
              "      <td>You should use structured procrastination to y...</td>\n",
              "      <td>1.000000</td>\n",
              "      <td>0.970069</td>\n",
              "      <td>1.000000</td>\n",
              "      <td>1.000000</td>\n",
              "      <td>0.509993</td>\n",
              "    </tr>\n",
              "    <tr>\n",
              "      <th>2</th>\n",
              "      <td>How does the tendency for quick elimination of...</td>\n",
              "      <td>The tendency for quick elimination of doubt in...</td>\n",
              "      <td>[do…\\nSo pronounced is the tendency in man to ...</td>\n",
              "      <td>The tendency for quick elimination of doubt in...</td>\n",
              "      <td>1.000000</td>\n",
              "      <td>0.885497</td>\n",
              "      <td>1.000000</td>\n",
              "      <td>0.916667</td>\n",
              "      <td>0.688993</td>\n",
              "    </tr>\n",
              "    <tr>\n",
              "      <th>3</th>\n",
              "      <td>Who is John Perry and what is his concept of S...</td>\n",
              "      <td>John Perry is the genius mind behind the conce...</td>\n",
              "      <td>[standing.)\\nThe gist of Structured Procrastin...</td>\n",
              "      <td>John Perry is a philosophy professor at Stanfo...</td>\n",
              "      <td>1.000000</td>\n",
              "      <td>0.912391</td>\n",
              "      <td>1.000000</td>\n",
              "      <td>0.950000</td>\n",
              "      <td>0.739563</td>\n",
              "    </tr>\n",
              "    <tr>\n",
              "      <th>4</th>\n",
              "      <td>Are the anticipated career peaks for creators ...</td>\n",
              "      <td>The anticipated career peaks for creators who ...</td>\n",
              "      <td>[early, end late, and produce at above-average...</td>\n",
              "      <td>nan</td>\n",
              "      <td>1.000000</td>\n",
              "      <td>0.982765</td>\n",
              "      <td>0.000000</td>\n",
              "      <td>0.805556</td>\n",
              "      <td>0.184018</td>\n",
              "    </tr>\n",
              "    <tr>\n",
              "      <th>5</th>\n",
              "      <td>Why is it important to develop concrete skills...</td>\n",
              "      <td>It is important to develop concrete skills dur...</td>\n",
              "      <td>[Which undergraduate degrees are useful in\\nth...</td>\n",
              "      <td>If you intend to have an impact on the world, ...</td>\n",
              "      <td>1.000000</td>\n",
              "      <td>0.914746</td>\n",
              "      <td>1.000000</td>\n",
              "      <td>0.854167</td>\n",
              "      <td>0.563017</td>\n",
              "    </tr>\n",
              "    <tr>\n",
              "      <th>6</th>\n",
              "      <td>How does the Liking/Loving Tendency affect the...</td>\n",
              "      <td>The Liking/Loving Tendency can act as a condit...</td>\n",
              "      <td>[other facts to facilitate love.\\nThe applicat...</td>\n",
              "      <td>The Liking/Loving Tendency affects the behavio...</td>\n",
              "      <td>0.750000</td>\n",
              "      <td>0.960913</td>\n",
              "      <td>0.333333</td>\n",
              "      <td>0.770833</td>\n",
              "      <td>0.489372</td>\n",
              "    </tr>\n",
              "    <tr>\n",
              "      <th>7</th>\n",
              "      <td>How important is it for a startup to focus on ...</td>\n",
              "      <td>It is very important for a startup to focus on...</td>\n",
              "      <td>[answer, in part because in the beginning of a...</td>\n",
              "      <td>It is therefore much more important for a star...</td>\n",
              "      <td>0.750000</td>\n",
              "      <td>0.980877</td>\n",
              "      <td>1.000000</td>\n",
              "      <td>1.000000</td>\n",
              "      <td>0.644380</td>\n",
              "    </tr>\n",
              "    <tr>\n",
              "      <th>8</th>\n",
              "      <td>How does the emotional rollercoaster impact te...</td>\n",
              "      <td>The emotional rollercoaster in a startup can l...</td>\n",
              "      <td>[This combines the Xrst and second items above...</td>\n",
              "      <td>The emotional rollercoaster can wreak havoc on...</td>\n",
              "      <td>0.800000</td>\n",
              "      <td>0.951433</td>\n",
              "      <td>0.500000</td>\n",
              "      <td>0.926667</td>\n",
              "      <td>0.333737</td>\n",
              "    </tr>\n",
              "    <tr>\n",
              "      <th>9</th>\n",
              "      <td>How does the Inconsistency-Avoidance Tendency ...</td>\n",
              "      <td>The Inconsistency-Avoidance Tendency makes peo...</td>\n",
              "      <td>[less brain-blocked by its previous conclusion...</td>\n",
              "      <td>The Inconsistency-Avoidance Tendency affects p...</td>\n",
              "      <td>1.000000</td>\n",
              "      <td>0.901524</td>\n",
              "      <td>0.250000</td>\n",
              "      <td>0.816667</td>\n",
              "      <td>0.617422</td>\n",
              "    </tr>\n",
              "    <tr>\n",
              "      <th>10</th>\n",
              "      <td>How does the startup team's caliber affect the...</td>\n",
              "      <td>The caliber of a startup team can greatly impa...</td>\n",
              "      <td>[Let’s start by deXning terms.\\nThe caliber of...</td>\n",
              "      <td>nan</td>\n",
              "      <td>1.000000</td>\n",
              "      <td>0.899913</td>\n",
              "      <td>0.166667</td>\n",
              "      <td>0.000000</td>\n",
              "      <td>0.185165</td>\n",
              "    </tr>\n",
              "    <tr>\n",
              "      <th>11</th>\n",
              "      <td>How does perceived risk impact decision-making...</td>\n",
              "      <td>Perceived risk can impact decision-making in a...</td>\n",
              "      <td>[What are the layers of risk for a high-tech\\n...</td>\n",
              "      <td>The desire to be liked in a startup with multi...</td>\n",
              "      <td>0.875000</td>\n",
              "      <td>0.865828</td>\n",
              "      <td>0.500000</td>\n",
              "      <td>0.909354</td>\n",
              "      <td>0.413751</td>\n",
              "    </tr>\n",
              "    <tr>\n",
              "      <th>12</th>\n",
              "      <td>What advantages does a technical degree offer ...</td>\n",
              "      <td>A technical degree offers advantages in terms ...</td>\n",
              "      <td>[path to doing anything big.\\n•\\nPlus, technic...</td>\n",
              "      <td>Technical degrees offer the advantage of teach...</td>\n",
              "      <td>1.000000</td>\n",
              "      <td>0.980790</td>\n",
              "      <td>1.000000</td>\n",
              "      <td>1.000000</td>\n",
              "      <td>0.538312</td>\n",
              "    </tr>\n",
              "    <tr>\n",
              "      <th>13</th>\n",
              "      <td>What is the purpose of using temporary subfold...</td>\n",
              "      <td>The purpose of using temporary subfolders in e...</td>\n",
              "      <td>[jects or pressing issues go into temporary su...</td>\n",
              "      <td>The purpose of using temporary subfolders in e...</td>\n",
              "      <td>1.000000</td>\n",
              "      <td>0.944349</td>\n",
              "      <td>0.750000</td>\n",
              "      <td>1.000000</td>\n",
              "      <td>0.696193</td>\n",
              "    </tr>\n",
              "    <tr>\n",
              "      <th>14</th>\n",
              "      <td>What psychological tendency causes resistance ...</td>\n",
              "      <td>The psychological tendency that causes resista...</td>\n",
              "      <td>[Five: Inconsistency-Avoidance Tendency\\n[Peop...</td>\n",
              "      <td>Inconsistency-Avoidance Tendency is the psycho...</td>\n",
              "      <td>1.000000</td>\n",
              "      <td>0.961573</td>\n",
              "      <td>1.000000</td>\n",
              "      <td>0.966667</td>\n",
              "      <td>0.741281</td>\n",
              "    </tr>\n",
              "    <tr>\n",
              "      <th>15</th>\n",
              "      <td>What factors contribute to high employee turno...</td>\n",
              "      <td>Factors that contribute to high employee turno...</td>\n",
              "      <td>[bitterness, disillusionment, cynicism, bad mo...</td>\n",
              "      <td>The factors that contribute to high employee t...</td>\n",
              "      <td>0.800000</td>\n",
              "      <td>0.985210</td>\n",
              "      <td>0.000000</td>\n",
              "      <td>0.500000</td>\n",
              "      <td>0.529882</td>\n",
              "    </tr>\n",
              "    <tr>\n",
              "      <th>16</th>\n",
              "      <td>How does the fast pace in startups help in sta...</td>\n",
              "      <td>The fast pace in startups can help in starting...</td>\n",
              "      <td>[and the hours.\\nBut, it’s really diZcult.\\nTh...</td>\n",
              "      <td>The fast pace in startups allows for reduced t...</td>\n",
              "      <td>0.000000</td>\n",
              "      <td>0.959889</td>\n",
              "      <td>0.250000</td>\n",
              "      <td>0.873639</td>\n",
              "      <td>0.832809</td>\n",
              "    </tr>\n",
              "    <tr>\n",
              "      <th>17</th>\n",
              "      <td>Why offer option packages to ambitious manager...</td>\n",
              "      <td>Offering option packages to ambitious managers...</td>\n",
              "      <td>[tance packages you possibly can, and get it d...</td>\n",
              "      <td>nan</td>\n",
              "      <td>0.714286</td>\n",
              "      <td>0.934063</td>\n",
              "      <td>1.000000</td>\n",
              "      <td>0.166667</td>\n",
              "      <td>0.178592</td>\n",
              "    </tr>\n",
              "    <tr>\n",
              "      <th>18</th>\n",
              "      <td>How does a hyper-controlling manager's negativ...</td>\n",
              "      <td>A hyper-controlling manager's negative impact ...</td>\n",
              "      <td>[instruction. They need to be micromanaged. On...</td>\n",
              "      <td>The hyper-controlling manager with a severe pe...</td>\n",
              "      <td>1.000000</td>\n",
              "      <td>0.954673</td>\n",
              "      <td>1.000000</td>\n",
              "      <td>1.000000</td>\n",
              "      <td>0.887467</td>\n",
              "    </tr>\n",
              "  </tbody>\n",
              "</table>\n",
              "</div>"
            ],
            "text/plain": [
              "                                             question  \\\n",
              "0   How can engaging in conversation through blogg...   \n",
              "1   How can structured procrastination be used to ...   \n",
              "2   How does the tendency for quick elimination of...   \n",
              "3   Who is John Perry and what is his concept of S...   \n",
              "4   Are the anticipated career peaks for creators ...   \n",
              "5   Why is it important to develop concrete skills...   \n",
              "6   How does the Liking/Loving Tendency affect the...   \n",
              "7   How important is it for a startup to focus on ...   \n",
              "8   How does the emotional rollercoaster impact te...   \n",
              "9   How does the Inconsistency-Avoidance Tendency ...   \n",
              "10  How does the startup team's caliber affect the...   \n",
              "11  How does perceived risk impact decision-making...   \n",
              "12  What advantages does a technical degree offer ...   \n",
              "13  What is the purpose of using temporary subfold...   \n",
              "14  What psychological tendency causes resistance ...   \n",
              "15  What factors contribute to high employee turno...   \n",
              "16  How does the fast pace in startups help in sta...   \n",
              "17  Why offer option packages to ambitious manager...   \n",
              "18  How does a hyper-controlling manager's negativ...   \n",
              "\n",
              "                                               answer  \\\n",
              "0   Engaging in conversation through blogging can ...   \n",
              "1   Structured procrastination can be used to acco...   \n",
              "2   The tendency for quick elimination of doubt in...   \n",
              "3   John Perry is the genius mind behind the conce...   \n",
              "4   The anticipated career peaks for creators who ...   \n",
              "5   It is important to develop concrete skills dur...   \n",
              "6   The Liking/Loving Tendency can act as a condit...   \n",
              "7   It is very important for a startup to focus on...   \n",
              "8   The emotional rollercoaster in a startup can l...   \n",
              "9   The Inconsistency-Avoidance Tendency makes peo...   \n",
              "10  The caliber of a startup team can greatly impa...   \n",
              "11  Perceived risk can impact decision-making in a...   \n",
              "12  A technical degree offers advantages in terms ...   \n",
              "13  The purpose of using temporary subfolders in e...   \n",
              "14  The psychological tendency that causes resista...   \n",
              "15  Factors that contribute to high employee turno...   \n",
              "16  The fast pace in startups can help in starting...   \n",
              "17  Offering option packages to ambitious managers...   \n",
              "18  A hyper-controlling manager's negative impact ...   \n",
              "\n",
              "                                             contexts  \\\n",
              "0   [esting things going on, about their point of ...   \n",
              "1   [standing.)\\nThe gist of Structured Procrastin...   \n",
              "2   [do…\\nSo pronounced is the tendency in man to ...   \n",
              "3   [standing.)\\nThe gist of Structured Procrastin...   \n",
              "4   [early, end late, and produce at above-average...   \n",
              "5   [Which undergraduate degrees are useful in\\nth...   \n",
              "6   [other facts to facilitate love.\\nThe applicat...   \n",
              "7   [answer, in part because in the beginning of a...   \n",
              "8   [This combines the Xrst and second items above...   \n",
              "9   [less brain-blocked by its previous conclusion...   \n",
              "10  [Let’s start by deXning terms.\\nThe caliber of...   \n",
              "11  [What are the layers of risk for a high-tech\\n...   \n",
              "12  [path to doing anything big.\\n•\\nPlus, technic...   \n",
              "13  [jects or pressing issues go into temporary su...   \n",
              "14  [Five: Inconsistency-Avoidance Tendency\\n[Peop...   \n",
              "15  [bitterness, disillusionment, cynicism, bad mo...   \n",
              "16  [and the hours.\\nBut, it’s really diZcult.\\nTh...   \n",
              "17  [tance packages you possibly can, and get it d...   \n",
              "18  [instruction. They need to be micromanaged. On...   \n",
              "\n",
              "                                         ground_truth  faithfulness  \\\n",
              "0   Engaging in conversation through blogging can ...      0.666667   \n",
              "1   You should use structured procrastination to y...      1.000000   \n",
              "2   The tendency for quick elimination of doubt in...      1.000000   \n",
              "3   John Perry is a philosophy professor at Stanfo...      1.000000   \n",
              "4                                                 nan      1.000000   \n",
              "5   If you intend to have an impact on the world, ...      1.000000   \n",
              "6   The Liking/Loving Tendency affects the behavio...      0.750000   \n",
              "7   It is therefore much more important for a star...      0.750000   \n",
              "8   The emotional rollercoaster can wreak havoc on...      0.800000   \n",
              "9   The Inconsistency-Avoidance Tendency affects p...      1.000000   \n",
              "10                                                nan      1.000000   \n",
              "11  The desire to be liked in a startup with multi...      0.875000   \n",
              "12  Technical degrees offer the advantage of teach...      1.000000   \n",
              "13  The purpose of using temporary subfolders in e...      1.000000   \n",
              "14  Inconsistency-Avoidance Tendency is the psycho...      1.000000   \n",
              "15  The factors that contribute to high employee t...      0.800000   \n",
              "16  The fast pace in startups allows for reduced t...      0.000000   \n",
              "17                                                nan      0.714286   \n",
              "18  The hyper-controlling manager with a severe pe...      1.000000   \n",
              "\n",
              "    answer_relevancy  context_recall  context_precision  answer_correctness  \n",
              "0           1.000000        1.000000           1.000000            0.559666  \n",
              "1           0.970069        1.000000           1.000000            0.509993  \n",
              "2           0.885497        1.000000           0.916667            0.688993  \n",
              "3           0.912391        1.000000           0.950000            0.739563  \n",
              "4           0.982765        0.000000           0.805556            0.184018  \n",
              "5           0.914746        1.000000           0.854167            0.563017  \n",
              "6           0.960913        0.333333           0.770833            0.489372  \n",
              "7           0.980877        1.000000           1.000000            0.644380  \n",
              "8           0.951433        0.500000           0.926667            0.333737  \n",
              "9           0.901524        0.250000           0.816667            0.617422  \n",
              "10          0.899913        0.166667           0.000000            0.185165  \n",
              "11          0.865828        0.500000           0.909354            0.413751  \n",
              "12          0.980790        1.000000           1.000000            0.538312  \n",
              "13          0.944349        0.750000           1.000000            0.696193  \n",
              "14          0.961573        1.000000           0.966667            0.741281  \n",
              "15          0.985210        0.000000           0.500000            0.529882  \n",
              "16          0.959889        0.250000           0.873639            0.832809  \n",
              "17          0.934063        1.000000           0.166667            0.178592  \n",
              "18          0.954673        1.000000           1.000000            0.887467  "
            ]
          },
          "execution_count": 44,
          "metadata": {},
          "output_type": "execute_result"
        }
      ],
      "source": [
        "advanced_retrieval_results_df = advanced_retrieval_results.to_pandas()\n",
        "advanced_retrieval_results_df"
      ]
    },
    {
      "cell_type": "markdown",
      "metadata": {
        "id": "J0hzqq5VtZ2a"
      },
      "source": [
        "## Task 3: Evaluating our Adjusted Pipeline Against Our Baseline\n",
        "\n",
        "Now we can compare our results and see what directional changes occured!\n",
        "\n",
        "Let's refresh with our initial metrics."
      ]
    },
    {
      "cell_type": "code",
      "execution_count": 45,
      "metadata": {
        "colab": {
          "base_uri": "https://localhost:8080/"
        },
        "id": "_WWGRaF5qx3V",
        "outputId": "7924b9a5-1bfc-4d26-f1f7-75e10fb64857"
      },
      "outputs": [
        {
          "data": {
            "text/plain": [
              "{'faithfulness': 0.6485, 'answer_relevancy': 0.8435, 'context_recall': 0.7281, 'context_precision': 0.8275, 'answer_correctness': 0.4801}"
            ]
          },
          "execution_count": 45,
          "metadata": {},
          "output_type": "execute_result"
        }
      ],
      "source": [
        "results"
      ]
    },
    {
      "cell_type": "markdown",
      "metadata": {
        "id": "oFv_yAeotmFs"
      },
      "source": [
        "And see how our advanced retrieval modified our chain!"
      ]
    },
    {
      "cell_type": "code",
      "execution_count": 46,
      "metadata": {
        "colab": {
          "base_uri": "https://localhost:8080/"
        },
        "id": "rpV11dxJo7xa",
        "outputId": "2ce6e4b7-f037-4fd4-ca0c-1d47ff5dc522"
      },
      "outputs": [
        {
          "data": {
            "text/plain": [
              "{'faithfulness': 0.8608, 'answer_relevancy': 0.9446, 'context_recall': 0.6711, 'context_precision': 0.8135, 'answer_correctness': 0.5439}"
            ]
          },
          "execution_count": 46,
          "metadata": {},
          "output_type": "execute_result"
        }
      ],
      "source": [
        "advanced_retrieval_results"
      ]
    },
    {
      "cell_type": "code",
      "execution_count": 47,
      "metadata": {
        "colab": {
          "base_uri": "https://localhost:8080/",
          "height": 206
        },
        "id": "62NYn3iAvTjM",
        "outputId": "732eec56-d4ef-4403-cc90-62d0c81c37cf"
      },
      "outputs": [
        {
          "data": {
            "text/html": [
              "<div>\n",
              "<style scoped>\n",
              "    .dataframe tbody tr th:only-of-type {\n",
              "        vertical-align: middle;\n",
              "    }\n",
              "\n",
              "    .dataframe tbody tr th {\n",
              "        vertical-align: top;\n",
              "    }\n",
              "\n",
              "    .dataframe thead th {\n",
              "        text-align: right;\n",
              "    }\n",
              "</style>\n",
              "<table border=\"1\" class=\"dataframe\">\n",
              "  <thead>\n",
              "    <tr style=\"text-align: right;\">\n",
              "      <th></th>\n",
              "      <th>Metric</th>\n",
              "      <th>Baseline</th>\n",
              "      <th>MultiQueryRetriever with Document Stuffing</th>\n",
              "      <th>Delta</th>\n",
              "    </tr>\n",
              "  </thead>\n",
              "  <tbody>\n",
              "    <tr>\n",
              "      <th>0</th>\n",
              "      <td>faithfulness</td>\n",
              "      <td>0.648459</td>\n",
              "      <td>0.860840</td>\n",
              "      <td>0.212380</td>\n",
              "    </tr>\n",
              "    <tr>\n",
              "      <th>1</th>\n",
              "      <td>answer_relevancy</td>\n",
              "      <td>0.843505</td>\n",
              "      <td>0.944553</td>\n",
              "      <td>0.101048</td>\n",
              "    </tr>\n",
              "    <tr>\n",
              "      <th>2</th>\n",
              "      <td>context_recall</td>\n",
              "      <td>0.728070</td>\n",
              "      <td>0.671053</td>\n",
              "      <td>-0.057018</td>\n",
              "    </tr>\n",
              "    <tr>\n",
              "      <th>3</th>\n",
              "      <td>context_precision</td>\n",
              "      <td>0.827485</td>\n",
              "      <td>0.813520</td>\n",
              "      <td>-0.013965</td>\n",
              "    </tr>\n",
              "    <tr>\n",
              "      <th>4</th>\n",
              "      <td>answer_correctness</td>\n",
              "      <td>0.480108</td>\n",
              "      <td>0.543874</td>\n",
              "      <td>0.063766</td>\n",
              "    </tr>\n",
              "  </tbody>\n",
              "</table>\n",
              "</div>"
            ],
            "text/plain": [
              "               Metric  Baseline  MultiQueryRetriever with Document Stuffing  \\\n",
              "0        faithfulness  0.648459                                    0.860840   \n",
              "1    answer_relevancy  0.843505                                    0.944553   \n",
              "2      context_recall  0.728070                                    0.671053   \n",
              "3   context_precision  0.827485                                    0.813520   \n",
              "4  answer_correctness  0.480108                                    0.543874   \n",
              "\n",
              "      Delta  \n",
              "0  0.212380  \n",
              "1  0.101048  \n",
              "2 -0.057018  \n",
              "3 -0.013965  \n",
              "4  0.063766  "
            ]
          },
          "execution_count": 47,
          "metadata": {},
          "output_type": "execute_result"
        }
      ],
      "source": [
        "import pandas as pd\n",
        "\n",
        "df_original = pd.DataFrame(list(results.items()), columns=['Metric', 'Baseline'])\n",
        "df_comparison = pd.DataFrame(list(advanced_retrieval_results.items()), columns=['Metric', 'MultiQueryRetriever with Document Stuffing'])\n",
        "\n",
        "df_merged = pd.merge(df_original, df_comparison, on='Metric')\n",
        "\n",
        "df_merged['Delta'] = df_merged['MultiQueryRetriever with Document Stuffing'] - df_merged['Baseline']\n",
        "\n",
        "df_merged"
      ]
    },
    {
      "cell_type": "markdown",
      "metadata": {
        "id": "GJKEOLNs5v0R"
      },
      "source": [
        "## Task 4: Testing OpenAI's Claim\n",
        "\n",
        "Now that we've seen how our retriever can impact the performance of our RAG pipeline - let's see how changing our embedding model impacts performance."
      ]
    },
    {
      "cell_type": "markdown",
      "metadata": {
        "id": "MM4KRhJYEL-h"
      },
      "source": [
        "####🏗️ Activity #2:\n",
        "\n",
        "Please provide markdown, or code comments, to explain which each of the following steps are doing!"
      ]
    },
    {
      "cell_type": "code",
      "execution_count": 48,
      "metadata": {
        "id": "Gv_tv4w86bPb"
      },
      "outputs": [],
      "source": [
        "# we change the embedding model to \"text-embedding-3-small\"\n",
        "new_embeddings = OpenAIEmbeddings(model=\"text-embedding-3-small\")"
      ]
    },
    {
      "cell_type": "code",
      "execution_count": 49,
      "metadata": {
        "id": "-JPe1_Jx6Rnw"
      },
      "outputs": [],
      "source": [
        "# we store our qdrant vector store in memory\n",
        "vector_store = Qdrant.from_documents(\n",
        "    documents,\n",
        "    new_embeddings,\n",
        "    location=\":memory:\",\n",
        "    collection_name=\"PMarca Blogs - TE3 - MQR\",\n",
        ")"
      ]
    },
    {
      "cell_type": "code",
      "execution_count": 50,
      "metadata": {
        "id": "H-HuozNf6muZ"
      },
      "outputs": [],
      "source": [
        "# we create new retriver from our vector store\n",
        "new_retriever = vector_store.as_retriever()"
      ]
    },
    {
      "cell_type": "code",
      "execution_count": 51,
      "metadata": {
        "id": "M6Tyc3ZY7Km2"
      },
      "outputs": [],
      "source": [
        "# we create  MultiQueryRetriever that fetches data from the vectoresore\n",
        "new_advanced_retriever = MultiQueryRetriever.from_llm(retriever=new_retriever, llm=primary_qa_llm)"
      ]
    },
    {
      "cell_type": "code",
      "execution_count": 52,
      "metadata": {
        "id": "s5QSJIhm7SKr"
      },
      "outputs": [],
      "source": [
        "# \"Create retrieval chain that retrieves documents and then passes them on.\"\n",
        "new_retrieval_chain = create_retrieval_chain(new_advanced_retriever, document_chain)"
      ]
    },
    {
      "cell_type": "code",
      "execution_count": 53,
      "metadata": {
        "id": "MBVjl1UK7fd7"
      },
      "outputs": [],
      "source": [
        "# we append the \"answers\" and \"contexts\" to a list for each response we got from our questons\n",
        "answers = []\n",
        "contexts = []\n",
        "\n",
        "for question in test_questions:\n",
        "  response = new_retrieval_chain.invoke({\"input\" : question})\n",
        "  answers.append(response[\"answer\"])\n",
        "  contexts.append([context.page_content for context in response[\"context\"]])"
      ]
    },
    {
      "cell_type": "code",
      "execution_count": 54,
      "metadata": {
        "id": "lTBrs0zr7iyG"
      },
      "outputs": [],
      "source": [
        "# we convert items from dict to dataset\n",
        "new_response_dataset_advanced_retrieval = Dataset.from_dict({\n",
        "    \"question\" : test_questions,\n",
        "    \"answer\" : answers,\n",
        "    \"contexts\" : contexts,\n",
        "    \"ground_truth\" : test_groundtruths\n",
        "})"
      ]
    },
    {
      "cell_type": "markdown",
      "metadata": {
        "colab": {
          "base_uri": "https://localhost:8080/",
          "height": 49,
          "referenced_widgets": [
            "399f6ec046c34c26818a07c5efc6845a",
            "7f82e0a3c3684460b8dda773d283b535",
            "cfa01f60b62f4a88806d85cee5ac0fa6",
            "38988d3f6f5f4de3b3d4be7fec89c3c7",
            "87bd0ad74d4345dea4b409d64524f6e7",
            "8cb506949697432db061878397d196f1",
            "e7831a581d024e3ebb4026a89ceef127",
            "18701fc64eb44d26b8aa1ae0af64d09f",
            "a6581091161c489d877c2cfec432f6ae",
            "42dcc945d1624f69b63bed2fa52cc4fa",
            "5524289f1e594a5eac60ee29d9f4249c"
          ]
        },
        "id": "hG5h-D8n7sZp",
        "outputId": "6760b49b-4576-4bee-e61a-293df24e2bc3"
      },
      "source": [
        "# we evaluate the new results\n",
        "new_advanced_retrieval_results = evaluate(new_response_dataset_advanced_retrieval, metrics,run_config=run_config)"
      ]
    },
    {
      "cell_type": "code",
      "execution_count": 56,
      "metadata": {
        "colab": {
          "base_uri": "https://localhost:8080/"
        },
        "id": "1uHdcpsZ76kj",
        "outputId": "53a4f4ef-13ce-4a89-a06e-6c255ed3c025"
      },
      "outputs": [
        {
          "data": {
            "text/plain": [
              "{'faithfulness': 0.8292, 'answer_relevancy': 0.9321, 'context_recall': 0.6372, 'context_precision': 0.7309, 'answer_correctness': 0.5107}"
            ]
          },
          "execution_count": 56,
          "metadata": {},
          "output_type": "execute_result"
        }
      ],
      "source": [
        "# we print results\n",
        "new_advanced_retrieval_results"
      ]
    },
    {
      "cell_type": "code",
      "execution_count": 57,
      "metadata": {
        "colab": {
          "base_uri": "https://localhost:8080/",
          "height": 206
        },
        "id": "s4TyaCUQ79Ke",
        "outputId": "c496266c-bf4a-4a3a-cd27-1d8abbf5bdb3"
      },
      "outputs": [
        {
          "data": {
            "text/html": [
              "<div>\n",
              "<style scoped>\n",
              "    .dataframe tbody tr th:only-of-type {\n",
              "        vertical-align: middle;\n",
              "    }\n",
              "\n",
              "    .dataframe tbody tr th {\n",
              "        vertical-align: top;\n",
              "    }\n",
              "\n",
              "    .dataframe thead th {\n",
              "        text-align: right;\n",
              "    }\n",
              "</style>\n",
              "<table border=\"1\" class=\"dataframe\">\n",
              "  <thead>\n",
              "    <tr style=\"text-align: right;\">\n",
              "      <th></th>\n",
              "      <th>Metric</th>\n",
              "      <th>ADA + Baseline</th>\n",
              "      <th>ADA + MQR</th>\n",
              "      <th>TE3 + MQR</th>\n",
              "      <th>ADA + MQR -&gt; TE3 + MQR</th>\n",
              "      <th>Baseline -&gt; TE3 + MQR</th>\n",
              "    </tr>\n",
              "  </thead>\n",
              "  <tbody>\n",
              "    <tr>\n",
              "      <th>0</th>\n",
              "      <td>faithfulness</td>\n",
              "      <td>0.648459</td>\n",
              "      <td>0.860840</td>\n",
              "      <td>0.829198</td>\n",
              "      <td>-0.031642</td>\n",
              "      <td>0.180739</td>\n",
              "    </tr>\n",
              "    <tr>\n",
              "      <th>1</th>\n",
              "      <td>answer_relevancy</td>\n",
              "      <td>0.843505</td>\n",
              "      <td>0.944553</td>\n",
              "      <td>0.932058</td>\n",
              "      <td>-0.012495</td>\n",
              "      <td>0.088553</td>\n",
              "    </tr>\n",
              "    <tr>\n",
              "      <th>2</th>\n",
              "      <td>context_recall</td>\n",
              "      <td>0.728070</td>\n",
              "      <td>0.671053</td>\n",
              "      <td>0.637218</td>\n",
              "      <td>-0.033835</td>\n",
              "      <td>-0.090852</td>\n",
              "    </tr>\n",
              "    <tr>\n",
              "      <th>3</th>\n",
              "      <td>context_precision</td>\n",
              "      <td>0.827485</td>\n",
              "      <td>0.813520</td>\n",
              "      <td>0.730934</td>\n",
              "      <td>-0.082587</td>\n",
              "      <td>-0.096552</td>\n",
              "    </tr>\n",
              "    <tr>\n",
              "      <th>4</th>\n",
              "      <td>answer_correctness</td>\n",
              "      <td>0.480108</td>\n",
              "      <td>0.543874</td>\n",
              "      <td>0.510711</td>\n",
              "      <td>-0.033164</td>\n",
              "      <td>0.030602</td>\n",
              "    </tr>\n",
              "  </tbody>\n",
              "</table>\n",
              "</div>"
            ],
            "text/plain": [
              "               Metric  ADA + Baseline  ADA + MQR  TE3 + MQR  \\\n",
              "0        faithfulness        0.648459   0.860840   0.829198   \n",
              "1    answer_relevancy        0.843505   0.944553   0.932058   \n",
              "2      context_recall        0.728070   0.671053   0.637218   \n",
              "3   context_precision        0.827485   0.813520   0.730934   \n",
              "4  answer_correctness        0.480108   0.543874   0.510711   \n",
              "\n",
              "   ADA + MQR -> TE3 + MQR  Baseline -> TE3 + MQR  \n",
              "0               -0.031642               0.180739  \n",
              "1               -0.012495               0.088553  \n",
              "2               -0.033835              -0.090852  \n",
              "3               -0.082587              -0.096552  \n",
              "4               -0.033164               0.030602  "
            ]
          },
          "execution_count": 57,
          "metadata": {},
          "output_type": "execute_result"
        }
      ],
      "source": [
        "# we create dataset from given inputs, so we can cleary compare our models\n",
        "df_baseline = pd.DataFrame(list(results.items()), columns=['Metric', 'ADA + Baseline'])\n",
        "df_original = pd.DataFrame(list(advanced_retrieval_results.items()), columns=['Metric', 'ADA + MQR'])\n",
        "df_comparison = pd.DataFrame(list(new_advanced_retrieval_results.items()), columns=['Metric', 'TE3 + MQR'])\n",
        "\n",
        "df_merged = pd.merge(df_original, df_comparison, on='Metric')\n",
        "df_merged = pd.merge(df_baseline, df_merged, on=\"Metric\")\n",
        "\n",
        "df_merged['ADA + MQR -> TE3 + MQR'] = df_merged['TE3 + MQR'] - df_merged['ADA + MQR']\n",
        "df_merged['Baseline -> TE3 + MQR'] = df_merged['TE3 + MQR'] - df_merged['ADA + Baseline']\n",
        "\n",
        "df_merged"
      ]
    },
    {
      "cell_type": "markdown",
      "metadata": {
        "id": "rRmkcMrxC4Me"
      },
      "source": [
        "####❓ Question #4:\n",
        "\n",
        "Do you think, in your opinion, `text-embedding-3-small` is significantly better than `ada`?\n",
        "\n",
        "### ANSWER\n",
        "\n",
        "I would not say that we made significant changes, but we made slight improvments.\n",
        "Answer Relevancy 5% decrease\n",
        "Context recall 9.5% improvement\n",
        "Context precision 1.6% improvement\n",
        "answer correctness  2% improvement\n",
        "\n",
        "The question is how did it improve in real life? It is hard to tell."
      ]
    },
    {
      "cell_type": "markdown",
      "metadata": {
        "id": "iOciJLABDBnA"
      },
      "source": [
        "## BONUS ACTIVITY: Using a Better Generator\n",
        "\n",
        "Now that we've seen how much more effective a better Retrieval pipeline is, let's look at what impact a better(?) Generator is!\n",
        "\n",
        "Adapt the above `TE3 + MQR` pipeline to use `GPT-4o` and compare the results below!"
      ]
    },
    {
      "cell_type": "code",
      "execution_count": 58,
      "metadata": {
        "id": "MY8l2EksDH43"
      },
      "outputs": [],
      "source": [
        "### YOUR CODE HERE"
      ]
    }
  ],
  "metadata": {
    "colab": {
      "provenance": [],
      "toc_visible": true
    },
    "kernelspec": {
      "display_name": "Python 3",
      "name": "python3"
    },
    "language_info": {
      "codemirror_mode": {
        "name": "ipython",
        "version": 3
      },
      "file_extension": ".py",
      "mimetype": "text/x-python",
      "name": "python",
      "nbconvert_exporter": "python",
      "pygments_lexer": "ipython3",
      "version": "3.11.9"
    },
    "widgets": {
      "application/vnd.jupyter.widget-state+json": {
        "05390d20f1b445b5b02529ee7a99f6d6": {
          "model_module": "@jupyter-widgets/controls",
          "model_module_version": "1.5.0",
          "model_name": "FloatProgressModel",
          "state": {
            "_dom_classes": [],
            "_model_module": "@jupyter-widgets/controls",
            "_model_module_version": "1.5.0",
            "_model_name": "FloatProgressModel",
            "_view_count": null,
            "_view_module": "@jupyter-widgets/controls",
            "_view_module_version": "1.5.0",
            "_view_name": "ProgressView",
            "bar_style": "success",
            "description": "",
            "description_tooltip": null,
            "layout": "IPY_MODEL_589c2004f5504a239615dec8671785d0",
            "max": 100,
            "min": 0,
            "orientation": "horizontal",
            "style": "IPY_MODEL_25d3337c457f4c748ed8bf78f5a27fe8",
            "value": 100
          }
        },
        "05ab48866b5d49df9567ce9cbda5ee2e": {
          "model_module": "@jupyter-widgets/controls",
          "model_module_version": "1.5.0",
          "model_name": "HBoxModel",
          "state": {
            "_dom_classes": [],
            "_model_module": "@jupyter-widgets/controls",
            "_model_module_version": "1.5.0",
            "_model_name": "HBoxModel",
            "_view_count": null,
            "_view_module": "@jupyter-widgets/controls",
            "_view_module_version": "1.5.0",
            "_view_name": "HBoxView",
            "box_style": "",
            "children": [
              "IPY_MODEL_49c1ef316e404052a7c8528781db3f9a",
              "IPY_MODEL_2dcb3e2fdf164e35a27a79cfae65933a",
              "IPY_MODEL_202f4244384a4501bfc1ffa50af96a1f"
            ],
            "layout": "IPY_MODEL_d93698b0506743ff98fdb998cfb7080a"
          }
        },
        "1317f4e20e1c4574a360345b427c3e8a": {
          "model_module": "@jupyter-widgets/controls",
          "model_module_version": "1.5.0",
          "model_name": "HTMLModel",
          "state": {
            "_dom_classes": [],
            "_model_module": "@jupyter-widgets/controls",
            "_model_module_version": "1.5.0",
            "_model_name": "HTMLModel",
            "_view_count": null,
            "_view_module": "@jupyter-widgets/controls",
            "_view_module_version": "1.5.0",
            "_view_name": "HTMLView",
            "description": "",
            "description_tooltip": null,
            "layout": "IPY_MODEL_92ef10fab64c4f40a93da3d31b572016",
            "placeholder": "​",
            "style": "IPY_MODEL_3b43c3f561e34d019007ac9a0125b28d",
            "value": " 1248/1248 [00:46&lt;00:00, 13.97it/s]"
          }
        },
        "18701fc64eb44d26b8aa1ae0af64d09f": {
          "model_module": "@jupyter-widgets/base",
          "model_module_version": "1.2.0",
          "model_name": "LayoutModel",
          "state": {
            "_model_module": "@jupyter-widgets/base",
            "_model_module_version": "1.2.0",
            "_model_name": "LayoutModel",
            "_view_count": null,
            "_view_module": "@jupyter-widgets/base",
            "_view_module_version": "1.2.0",
            "_view_name": "LayoutView",
            "align_content": null,
            "align_items": null,
            "align_self": null,
            "border": null,
            "bottom": null,
            "display": null,
            "flex": null,
            "flex_flow": null,
            "grid_area": null,
            "grid_auto_columns": null,
            "grid_auto_flow": null,
            "grid_auto_rows": null,
            "grid_column": null,
            "grid_gap": null,
            "grid_row": null,
            "grid_template_areas": null,
            "grid_template_columns": null,
            "grid_template_rows": null,
            "height": null,
            "justify_content": null,
            "justify_items": null,
            "left": null,
            "margin": null,
            "max_height": null,
            "max_width": null,
            "min_height": null,
            "min_width": null,
            "object_fit": null,
            "object_position": null,
            "order": null,
            "overflow": null,
            "overflow_x": null,
            "overflow_y": null,
            "padding": null,
            "right": null,
            "top": null,
            "visibility": null,
            "width": null
          }
        },
        "19acd28bfa2e4a7a83bc42faea5de770": {
          "model_module": "@jupyter-widgets/base",
          "model_module_version": "1.2.0",
          "model_name": "LayoutModel",
          "state": {
            "_model_module": "@jupyter-widgets/base",
            "_model_module_version": "1.2.0",
            "_model_name": "LayoutModel",
            "_view_count": null,
            "_view_module": "@jupyter-widgets/base",
            "_view_module_version": "1.2.0",
            "_view_name": "LayoutView",
            "align_content": null,
            "align_items": null,
            "align_self": null,
            "border": null,
            "bottom": null,
            "display": null,
            "flex": null,
            "flex_flow": null,
            "grid_area": null,
            "grid_auto_columns": null,
            "grid_auto_flow": null,
            "grid_auto_rows": null,
            "grid_column": null,
            "grid_gap": null,
            "grid_row": null,
            "grid_template_areas": null,
            "grid_template_columns": null,
            "grid_template_rows": null,
            "height": null,
            "justify_content": null,
            "justify_items": null,
            "left": null,
            "margin": null,
            "max_height": null,
            "max_width": null,
            "min_height": null,
            "min_width": null,
            "object_fit": null,
            "object_position": null,
            "order": null,
            "overflow": null,
            "overflow_x": null,
            "overflow_y": null,
            "padding": null,
            "right": null,
            "top": null,
            "visibility": null,
            "width": null
          }
        },
        "1d43002974f24e8a8b6961cddc04ce47": {
          "model_module": "@jupyter-widgets/base",
          "model_module_version": "1.2.0",
          "model_name": "LayoutModel",
          "state": {
            "_model_module": "@jupyter-widgets/base",
            "_model_module_version": "1.2.0",
            "_model_name": "LayoutModel",
            "_view_count": null,
            "_view_module": "@jupyter-widgets/base",
            "_view_module_version": "1.2.0",
            "_view_name": "LayoutView",
            "align_content": null,
            "align_items": null,
            "align_self": null,
            "border": null,
            "bottom": null,
            "display": null,
            "flex": null,
            "flex_flow": null,
            "grid_area": null,
            "grid_auto_columns": null,
            "grid_auto_flow": null,
            "grid_auto_rows": null,
            "grid_column": null,
            "grid_gap": null,
            "grid_row": null,
            "grid_template_areas": null,
            "grid_template_columns": null,
            "grid_template_rows": null,
            "height": null,
            "justify_content": null,
            "justify_items": null,
            "left": null,
            "margin": null,
            "max_height": null,
            "max_width": null,
            "min_height": null,
            "min_width": null,
            "object_fit": null,
            "object_position": null,
            "order": null,
            "overflow": null,
            "overflow_x": null,
            "overflow_y": null,
            "padding": null,
            "right": null,
            "top": null,
            "visibility": null,
            "width": null
          }
        },
        "1fb5a4b71deb406fa2f342c88b9e4e1d": {
          "model_module": "@jupyter-widgets/controls",
          "model_module_version": "1.5.0",
          "model_name": "HTMLModel",
          "state": {
            "_dom_classes": [],
            "_model_module": "@jupyter-widgets/controls",
            "_model_module_version": "1.5.0",
            "_model_name": "HTMLModel",
            "_view_count": null,
            "_view_module": "@jupyter-widgets/controls",
            "_view_module_version": "1.5.0",
            "_view_name": "HTMLView",
            "description": "",
            "description_tooltip": null,
            "layout": "IPY_MODEL_7e1d22c19aff4c768d643c249e425d00",
            "placeholder": "​",
            "style": "IPY_MODEL_3a498872a68049329b4d206629b9b3bf",
            "value": "embedding nodes: 100%"
          }
        },
        "202f4244384a4501bfc1ffa50af96a1f": {
          "model_module": "@jupyter-widgets/controls",
          "model_module_version": "1.5.0",
          "model_name": "HTMLModel",
          "state": {
            "_dom_classes": [],
            "_model_module": "@jupyter-widgets/controls",
            "_model_module_version": "1.5.0",
            "_model_name": "HTMLModel",
            "_view_count": null,
            "_view_module": "@jupyter-widgets/controls",
            "_view_module_version": "1.5.0",
            "_view_name": "HTMLView",
            "description": "",
            "description_tooltip": null,
            "layout": "IPY_MODEL_a10a7577a99b4683a1d59a09d88f93a1",
            "placeholder": "​",
            "style": "IPY_MODEL_444bc7dae1aa4e098b79655428599310",
            "value": " 20/20 [01:04&lt;00:00, 10.00s/it]"
          }
        },
        "25d3337c457f4c748ed8bf78f5a27fe8": {
          "model_module": "@jupyter-widgets/controls",
          "model_module_version": "1.5.0",
          "model_name": "ProgressStyleModel",
          "state": {
            "_model_module": "@jupyter-widgets/controls",
            "_model_module_version": "1.5.0",
            "_model_name": "ProgressStyleModel",
            "_view_count": null,
            "_view_module": "@jupyter-widgets/base",
            "_view_module_version": "1.2.0",
            "_view_name": "StyleView",
            "bar_color": null,
            "description_width": ""
          }
        },
        "2aa53858803d4ad39113009d86dd67fc": {
          "model_module": "@jupyter-widgets/base",
          "model_module_version": "1.2.0",
          "model_name": "LayoutModel",
          "state": {
            "_model_module": "@jupyter-widgets/base",
            "_model_module_version": "1.2.0",
            "_model_name": "LayoutModel",
            "_view_count": null,
            "_view_module": "@jupyter-widgets/base",
            "_view_module_version": "1.2.0",
            "_view_name": "LayoutView",
            "align_content": null,
            "align_items": null,
            "align_self": null,
            "border": null,
            "bottom": null,
            "display": null,
            "flex": null,
            "flex_flow": null,
            "grid_area": null,
            "grid_auto_columns": null,
            "grid_auto_flow": null,
            "grid_auto_rows": null,
            "grid_column": null,
            "grid_gap": null,
            "grid_row": null,
            "grid_template_areas": null,
            "grid_template_columns": null,
            "grid_template_rows": null,
            "height": null,
            "justify_content": null,
            "justify_items": null,
            "left": null,
            "margin": null,
            "max_height": null,
            "max_width": null,
            "min_height": null,
            "min_width": null,
            "object_fit": null,
            "object_position": null,
            "order": null,
            "overflow": null,
            "overflow_x": null,
            "overflow_y": null,
            "padding": null,
            "right": null,
            "top": null,
            "visibility": "hidden",
            "width": null
          }
        },
        "2dcb3e2fdf164e35a27a79cfae65933a": {
          "model_module": "@jupyter-widgets/controls",
          "model_module_version": "1.5.0",
          "model_name": "FloatProgressModel",
          "state": {
            "_dom_classes": [],
            "_model_module": "@jupyter-widgets/controls",
            "_model_module_version": "1.5.0",
            "_model_name": "FloatProgressModel",
            "_view_count": null,
            "_view_module": "@jupyter-widgets/controls",
            "_view_module_version": "1.5.0",
            "_view_name": "ProgressView",
            "bar_style": "success",
            "description": "",
            "description_tooltip": null,
            "layout": "IPY_MODEL_60a663f8736a43bcb47ac6c5f37ec597",
            "max": 20,
            "min": 0,
            "orientation": "horizontal",
            "style": "IPY_MODEL_e6edc46811064de2b74a6a477c4a44b7",
            "value": 20
          }
        },
        "31064d2adec14238a609d3f9791c64f3": {
          "model_module": "@jupyter-widgets/base",
          "model_module_version": "1.2.0",
          "model_name": "LayoutModel",
          "state": {
            "_model_module": "@jupyter-widgets/base",
            "_model_module_version": "1.2.0",
            "_model_name": "LayoutModel",
            "_view_count": null,
            "_view_module": "@jupyter-widgets/base",
            "_view_module_version": "1.2.0",
            "_view_name": "LayoutView",
            "align_content": null,
            "align_items": null,
            "align_self": null,
            "border": null,
            "bottom": null,
            "display": null,
            "flex": null,
            "flex_flow": null,
            "grid_area": null,
            "grid_auto_columns": null,
            "grid_auto_flow": null,
            "grid_auto_rows": null,
            "grid_column": null,
            "grid_gap": null,
            "grid_row": null,
            "grid_template_areas": null,
            "grid_template_columns": null,
            "grid_template_rows": null,
            "height": null,
            "justify_content": null,
            "justify_items": null,
            "left": null,
            "margin": null,
            "max_height": null,
            "max_width": null,
            "min_height": null,
            "min_width": null,
            "object_fit": null,
            "object_position": null,
            "order": null,
            "overflow": null,
            "overflow_x": null,
            "overflow_y": null,
            "padding": null,
            "right": null,
            "top": null,
            "visibility": null,
            "width": null
          }
        },
        "32514310070a426ea247c9f1bc66b630": {
          "model_module": "@jupyter-widgets/controls",
          "model_module_version": "1.5.0",
          "model_name": "HBoxModel",
          "state": {
            "_dom_classes": [],
            "_model_module": "@jupyter-widgets/controls",
            "_model_module_version": "1.5.0",
            "_model_name": "HBoxModel",
            "_view_count": null,
            "_view_module": "@jupyter-widgets/controls",
            "_view_module_version": "1.5.0",
            "_view_name": "HBoxView",
            "box_style": "",
            "children": [
              "IPY_MODEL_3e7520df71de40e0af5589b6aeb95171",
              "IPY_MODEL_05390d20f1b445b5b02529ee7a99f6d6",
              "IPY_MODEL_3380693903474d2585638f7e3458fcd6"
            ],
            "layout": "IPY_MODEL_1d43002974f24e8a8b6961cddc04ce47"
          }
        },
        "3380693903474d2585638f7e3458fcd6": {
          "model_module": "@jupyter-widgets/controls",
          "model_module_version": "1.5.0",
          "model_name": "HTMLModel",
          "state": {
            "_dom_classes": [],
            "_model_module": "@jupyter-widgets/controls",
            "_model_module_version": "1.5.0",
            "_model_name": "HTMLModel",
            "_view_count": null,
            "_view_module": "@jupyter-widgets/controls",
            "_view_module_version": "1.5.0",
            "_view_name": "HTMLView",
            "description": "",
            "description_tooltip": null,
            "layout": "IPY_MODEL_31064d2adec14238a609d3f9791c64f3",
            "placeholder": "​",
            "style": "IPY_MODEL_4f482b8ce7a54c1787394fb7d90391a0",
            "value": " 100/100 [00:33&lt;00:00,  1.55s/it]"
          }
        },
        "356b929fa8dc42538767c58dcce12217": {
          "model_module": "@jupyter-widgets/controls",
          "model_module_version": "1.5.0",
          "model_name": "DescriptionStyleModel",
          "state": {
            "_model_module": "@jupyter-widgets/controls",
            "_model_module_version": "1.5.0",
            "_model_name": "DescriptionStyleModel",
            "_view_count": null,
            "_view_module": "@jupyter-widgets/base",
            "_view_module_version": "1.2.0",
            "_view_name": "StyleView",
            "description_width": ""
          }
        },
        "37ec9b5c847749439d7c155ac3b1ec68": {
          "model_module": "@jupyter-widgets/controls",
          "model_module_version": "1.5.0",
          "model_name": "FloatProgressModel",
          "state": {
            "_dom_classes": [],
            "_model_module": "@jupyter-widgets/controls",
            "_model_module_version": "1.5.0",
            "_model_name": "FloatProgressModel",
            "_view_count": null,
            "_view_module": "@jupyter-widgets/controls",
            "_view_module_version": "1.5.0",
            "_view_name": "ProgressView",
            "bar_style": "",
            "description": "",
            "description_tooltip": null,
            "layout": "IPY_MODEL_89a7c333d0b241169dc29ed998b2c9c4",
            "max": 1248,
            "min": 0,
            "orientation": "horizontal",
            "style": "IPY_MODEL_88c8557741734e59a6099bb5fa260f6e",
            "value": 1248
          }
        },
        "38988d3f6f5f4de3b3d4be7fec89c3c7": {
          "model_module": "@jupyter-widgets/controls",
          "model_module_version": "1.5.0",
          "model_name": "HTMLModel",
          "state": {
            "_dom_classes": [],
            "_model_module": "@jupyter-widgets/controls",
            "_model_module_version": "1.5.0",
            "_model_name": "HTMLModel",
            "_view_count": null,
            "_view_module": "@jupyter-widgets/controls",
            "_view_module_version": "1.5.0",
            "_view_name": "HTMLView",
            "description": "",
            "description_tooltip": null,
            "layout": "IPY_MODEL_42dcc945d1624f69b63bed2fa52cc4fa",
            "placeholder": "​",
            "style": "IPY_MODEL_5524289f1e594a5eac60ee29d9f4249c",
            "value": " 100/100 [00:45&lt;00:00,  1.68s/it]"
          }
        },
        "399f6ec046c34c26818a07c5efc6845a": {
          "model_module": "@jupyter-widgets/controls",
          "model_module_version": "1.5.0",
          "model_name": "HBoxModel",
          "state": {
            "_dom_classes": [],
            "_model_module": "@jupyter-widgets/controls",
            "_model_module_version": "1.5.0",
            "_model_name": "HBoxModel",
            "_view_count": null,
            "_view_module": "@jupyter-widgets/controls",
            "_view_module_version": "1.5.0",
            "_view_name": "HBoxView",
            "box_style": "",
            "children": [
              "IPY_MODEL_7f82e0a3c3684460b8dda773d283b535",
              "IPY_MODEL_cfa01f60b62f4a88806d85cee5ac0fa6",
              "IPY_MODEL_38988d3f6f5f4de3b3d4be7fec89c3c7"
            ],
            "layout": "IPY_MODEL_87bd0ad74d4345dea4b409d64524f6e7"
          }
        },
        "3a498872a68049329b4d206629b9b3bf": {
          "model_module": "@jupyter-widgets/controls",
          "model_module_version": "1.5.0",
          "model_name": "DescriptionStyleModel",
          "state": {
            "_model_module": "@jupyter-widgets/controls",
            "_model_module_version": "1.5.0",
            "_model_name": "DescriptionStyleModel",
            "_view_count": null,
            "_view_module": "@jupyter-widgets/base",
            "_view_module_version": "1.2.0",
            "_view_name": "StyleView",
            "description_width": ""
          }
        },
        "3b43c3f561e34d019007ac9a0125b28d": {
          "model_module": "@jupyter-widgets/controls",
          "model_module_version": "1.5.0",
          "model_name": "DescriptionStyleModel",
          "state": {
            "_model_module": "@jupyter-widgets/controls",
            "_model_module_version": "1.5.0",
            "_model_name": "DescriptionStyleModel",
            "_view_count": null,
            "_view_module": "@jupyter-widgets/base",
            "_view_module_version": "1.2.0",
            "_view_name": "StyleView",
            "description_width": ""
          }
        },
        "3e7520df71de40e0af5589b6aeb95171": {
          "model_module": "@jupyter-widgets/controls",
          "model_module_version": "1.5.0",
          "model_name": "HTMLModel",
          "state": {
            "_dom_classes": [],
            "_model_module": "@jupyter-widgets/controls",
            "_model_module_version": "1.5.0",
            "_model_name": "HTMLModel",
            "_view_count": null,
            "_view_module": "@jupyter-widgets/controls",
            "_view_module_version": "1.5.0",
            "_view_name": "HTMLView",
            "description": "",
            "description_tooltip": null,
            "layout": "IPY_MODEL_97abe811c89c44dcacd7e39074d22546",
            "placeholder": "​",
            "style": "IPY_MODEL_87a3d4b2ed5f4f1ca895c6a1981eb847",
            "value": "Evaluating: 100%"
          }
        },
        "40343486e3ea4e5fae55b5a528f139d8": {
          "model_module": "@jupyter-widgets/controls",
          "model_module_version": "1.5.0",
          "model_name": "ProgressStyleModel",
          "state": {
            "_model_module": "@jupyter-widgets/controls",
            "_model_module_version": "1.5.0",
            "_model_name": "ProgressStyleModel",
            "_view_count": null,
            "_view_module": "@jupyter-widgets/base",
            "_view_module_version": "1.2.0",
            "_view_name": "StyleView",
            "bar_color": null,
            "description_width": ""
          }
        },
        "42dcc945d1624f69b63bed2fa52cc4fa": {
          "model_module": "@jupyter-widgets/base",
          "model_module_version": "1.2.0",
          "model_name": "LayoutModel",
          "state": {
            "_model_module": "@jupyter-widgets/base",
            "_model_module_version": "1.2.0",
            "_model_name": "LayoutModel",
            "_view_count": null,
            "_view_module": "@jupyter-widgets/base",
            "_view_module_version": "1.2.0",
            "_view_name": "LayoutView",
            "align_content": null,
            "align_items": null,
            "align_self": null,
            "border": null,
            "bottom": null,
            "display": null,
            "flex": null,
            "flex_flow": null,
            "grid_area": null,
            "grid_auto_columns": null,
            "grid_auto_flow": null,
            "grid_auto_rows": null,
            "grid_column": null,
            "grid_gap": null,
            "grid_row": null,
            "grid_template_areas": null,
            "grid_template_columns": null,
            "grid_template_rows": null,
            "height": null,
            "justify_content": null,
            "justify_items": null,
            "left": null,
            "margin": null,
            "max_height": null,
            "max_width": null,
            "min_height": null,
            "min_width": null,
            "object_fit": null,
            "object_position": null,
            "order": null,
            "overflow": null,
            "overflow_x": null,
            "overflow_y": null,
            "padding": null,
            "right": null,
            "top": null,
            "visibility": null,
            "width": null
          }
        },
        "444bc7dae1aa4e098b79655428599310": {
          "model_module": "@jupyter-widgets/controls",
          "model_module_version": "1.5.0",
          "model_name": "DescriptionStyleModel",
          "state": {
            "_model_module": "@jupyter-widgets/controls",
            "_model_module_version": "1.5.0",
            "_model_name": "DescriptionStyleModel",
            "_view_count": null,
            "_view_module": "@jupyter-widgets/base",
            "_view_module_version": "1.2.0",
            "_view_name": "StyleView",
            "description_width": ""
          }
        },
        "49c1ef316e404052a7c8528781db3f9a": {
          "model_module": "@jupyter-widgets/controls",
          "model_module_version": "1.5.0",
          "model_name": "HTMLModel",
          "state": {
            "_dom_classes": [],
            "_model_module": "@jupyter-widgets/controls",
            "_model_module_version": "1.5.0",
            "_model_name": "HTMLModel",
            "_view_count": null,
            "_view_module": "@jupyter-widgets/controls",
            "_view_module_version": "1.5.0",
            "_view_name": "HTMLView",
            "description": "",
            "description_tooltip": null,
            "layout": "IPY_MODEL_19acd28bfa2e4a7a83bc42faea5de770",
            "placeholder": "​",
            "style": "IPY_MODEL_356b929fa8dc42538767c58dcce12217",
            "value": "Generating: 100%"
          }
        },
        "4cefefc6cf714a68924e1b8d5e59aba9": {
          "model_module": "@jupyter-widgets/controls",
          "model_module_version": "1.5.0",
          "model_name": "HTMLModel",
          "state": {
            "_dom_classes": [],
            "_model_module": "@jupyter-widgets/controls",
            "_model_module_version": "1.5.0",
            "_model_name": "HTMLModel",
            "_view_count": null,
            "_view_module": "@jupyter-widgets/controls",
            "_view_module_version": "1.5.0",
            "_view_name": "HTMLView",
            "description": "",
            "description_tooltip": null,
            "layout": "IPY_MODEL_5c2b92989d7448e9bf65306c4f2f7d93",
            "placeholder": "​",
            "style": "IPY_MODEL_a34b3906cd514234a115c7bf6757ca9d",
            "value": "Evaluating: 100%"
          }
        },
        "4f482b8ce7a54c1787394fb7d90391a0": {
          "model_module": "@jupyter-widgets/controls",
          "model_module_version": "1.5.0",
          "model_name": "DescriptionStyleModel",
          "state": {
            "_model_module": "@jupyter-widgets/controls",
            "_model_module_version": "1.5.0",
            "_model_name": "DescriptionStyleModel",
            "_view_count": null,
            "_view_module": "@jupyter-widgets/base",
            "_view_module_version": "1.2.0",
            "_view_name": "StyleView",
            "description_width": ""
          }
        },
        "5524289f1e594a5eac60ee29d9f4249c": {
          "model_module": "@jupyter-widgets/controls",
          "model_module_version": "1.5.0",
          "model_name": "DescriptionStyleModel",
          "state": {
            "_model_module": "@jupyter-widgets/controls",
            "_model_module_version": "1.5.0",
            "_model_name": "DescriptionStyleModel",
            "_view_count": null,
            "_view_module": "@jupyter-widgets/base",
            "_view_module_version": "1.2.0",
            "_view_name": "StyleView",
            "description_width": ""
          }
        },
        "589c2004f5504a239615dec8671785d0": {
          "model_module": "@jupyter-widgets/base",
          "model_module_version": "1.2.0",
          "model_name": "LayoutModel",
          "state": {
            "_model_module": "@jupyter-widgets/base",
            "_model_module_version": "1.2.0",
            "_model_name": "LayoutModel",
            "_view_count": null,
            "_view_module": "@jupyter-widgets/base",
            "_view_module_version": "1.2.0",
            "_view_name": "LayoutView",
            "align_content": null,
            "align_items": null,
            "align_self": null,
            "border": null,
            "bottom": null,
            "display": null,
            "flex": null,
            "flex_flow": null,
            "grid_area": null,
            "grid_auto_columns": null,
            "grid_auto_flow": null,
            "grid_auto_rows": null,
            "grid_column": null,
            "grid_gap": null,
            "grid_row": null,
            "grid_template_areas": null,
            "grid_template_columns": null,
            "grid_template_rows": null,
            "height": null,
            "justify_content": null,
            "justify_items": null,
            "left": null,
            "margin": null,
            "max_height": null,
            "max_width": null,
            "min_height": null,
            "min_width": null,
            "object_fit": null,
            "object_position": null,
            "order": null,
            "overflow": null,
            "overflow_x": null,
            "overflow_y": null,
            "padding": null,
            "right": null,
            "top": null,
            "visibility": null,
            "width": null
          }
        },
        "5c2b92989d7448e9bf65306c4f2f7d93": {
          "model_module": "@jupyter-widgets/base",
          "model_module_version": "1.2.0",
          "model_name": "LayoutModel",
          "state": {
            "_model_module": "@jupyter-widgets/base",
            "_model_module_version": "1.2.0",
            "_model_name": "LayoutModel",
            "_view_count": null,
            "_view_module": "@jupyter-widgets/base",
            "_view_module_version": "1.2.0",
            "_view_name": "LayoutView",
            "align_content": null,
            "align_items": null,
            "align_self": null,
            "border": null,
            "bottom": null,
            "display": null,
            "flex": null,
            "flex_flow": null,
            "grid_area": null,
            "grid_auto_columns": null,
            "grid_auto_flow": null,
            "grid_auto_rows": null,
            "grid_column": null,
            "grid_gap": null,
            "grid_row": null,
            "grid_template_areas": null,
            "grid_template_columns": null,
            "grid_template_rows": null,
            "height": null,
            "justify_content": null,
            "justify_items": null,
            "left": null,
            "margin": null,
            "max_height": null,
            "max_width": null,
            "min_height": null,
            "min_width": null,
            "object_fit": null,
            "object_position": null,
            "order": null,
            "overflow": null,
            "overflow_x": null,
            "overflow_y": null,
            "padding": null,
            "right": null,
            "top": null,
            "visibility": null,
            "width": null
          }
        },
        "60a663f8736a43bcb47ac6c5f37ec597": {
          "model_module": "@jupyter-widgets/base",
          "model_module_version": "1.2.0",
          "model_name": "LayoutModel",
          "state": {
            "_model_module": "@jupyter-widgets/base",
            "_model_module_version": "1.2.0",
            "_model_name": "LayoutModel",
            "_view_count": null,
            "_view_module": "@jupyter-widgets/base",
            "_view_module_version": "1.2.0",
            "_view_name": "LayoutView",
            "align_content": null,
            "align_items": null,
            "align_self": null,
            "border": null,
            "bottom": null,
            "display": null,
            "flex": null,
            "flex_flow": null,
            "grid_area": null,
            "grid_auto_columns": null,
            "grid_auto_flow": null,
            "grid_auto_rows": null,
            "grid_column": null,
            "grid_gap": null,
            "grid_row": null,
            "grid_template_areas": null,
            "grid_template_columns": null,
            "grid_template_rows": null,
            "height": null,
            "justify_content": null,
            "justify_items": null,
            "left": null,
            "margin": null,
            "max_height": null,
            "max_width": null,
            "min_height": null,
            "min_width": null,
            "object_fit": null,
            "object_position": null,
            "order": null,
            "overflow": null,
            "overflow_x": null,
            "overflow_y": null,
            "padding": null,
            "right": null,
            "top": null,
            "visibility": null,
            "width": null
          }
        },
        "7e1d22c19aff4c768d643c249e425d00": {
          "model_module": "@jupyter-widgets/base",
          "model_module_version": "1.2.0",
          "model_name": "LayoutModel",
          "state": {
            "_model_module": "@jupyter-widgets/base",
            "_model_module_version": "1.2.0",
            "_model_name": "LayoutModel",
            "_view_count": null,
            "_view_module": "@jupyter-widgets/base",
            "_view_module_version": "1.2.0",
            "_view_name": "LayoutView",
            "align_content": null,
            "align_items": null,
            "align_self": null,
            "border": null,
            "bottom": null,
            "display": null,
            "flex": null,
            "flex_flow": null,
            "grid_area": null,
            "grid_auto_columns": null,
            "grid_auto_flow": null,
            "grid_auto_rows": null,
            "grid_column": null,
            "grid_gap": null,
            "grid_row": null,
            "grid_template_areas": null,
            "grid_template_columns": null,
            "grid_template_rows": null,
            "height": null,
            "justify_content": null,
            "justify_items": null,
            "left": null,
            "margin": null,
            "max_height": null,
            "max_width": null,
            "min_height": null,
            "min_width": null,
            "object_fit": null,
            "object_position": null,
            "order": null,
            "overflow": null,
            "overflow_x": null,
            "overflow_y": null,
            "padding": null,
            "right": null,
            "top": null,
            "visibility": null,
            "width": null
          }
        },
        "7f82e0a3c3684460b8dda773d283b535": {
          "model_module": "@jupyter-widgets/controls",
          "model_module_version": "1.5.0",
          "model_name": "HTMLModel",
          "state": {
            "_dom_classes": [],
            "_model_module": "@jupyter-widgets/controls",
            "_model_module_version": "1.5.0",
            "_model_name": "HTMLModel",
            "_view_count": null,
            "_view_module": "@jupyter-widgets/controls",
            "_view_module_version": "1.5.0",
            "_view_name": "HTMLView",
            "description": "",
            "description_tooltip": null,
            "layout": "IPY_MODEL_8cb506949697432db061878397d196f1",
            "placeholder": "​",
            "style": "IPY_MODEL_e7831a581d024e3ebb4026a89ceef127",
            "value": "Evaluating: 100%"
          }
        },
        "831b4dab6ff94d239d2824d390e01308": {
          "model_module": "@jupyter-widgets/controls",
          "model_module_version": "1.5.0",
          "model_name": "HBoxModel",
          "state": {
            "_dom_classes": [],
            "_model_module": "@jupyter-widgets/controls",
            "_model_module_version": "1.5.0",
            "_model_name": "HBoxModel",
            "_view_count": null,
            "_view_module": "@jupyter-widgets/controls",
            "_view_module_version": "1.5.0",
            "_view_name": "HBoxView",
            "box_style": "",
            "children": [
              "IPY_MODEL_4cefefc6cf714a68924e1b8d5e59aba9",
              "IPY_MODEL_fd7f5542a22d44388dda12ca19443a1f",
              "IPY_MODEL_93bf9b194c04460abffa192c19bcf67b"
            ],
            "layout": "IPY_MODEL_83985f58744a46cfbd001ce5957f3e4a"
          }
        },
        "83985f58744a46cfbd001ce5957f3e4a": {
          "model_module": "@jupyter-widgets/base",
          "model_module_version": "1.2.0",
          "model_name": "LayoutModel",
          "state": {
            "_model_module": "@jupyter-widgets/base",
            "_model_module_version": "1.2.0",
            "_model_name": "LayoutModel",
            "_view_count": null,
            "_view_module": "@jupyter-widgets/base",
            "_view_module_version": "1.2.0",
            "_view_name": "LayoutView",
            "align_content": null,
            "align_items": null,
            "align_self": null,
            "border": null,
            "bottom": null,
            "display": null,
            "flex": null,
            "flex_flow": null,
            "grid_area": null,
            "grid_auto_columns": null,
            "grid_auto_flow": null,
            "grid_auto_rows": null,
            "grid_column": null,
            "grid_gap": null,
            "grid_row": null,
            "grid_template_areas": null,
            "grid_template_columns": null,
            "grid_template_rows": null,
            "height": null,
            "justify_content": null,
            "justify_items": null,
            "left": null,
            "margin": null,
            "max_height": null,
            "max_width": null,
            "min_height": null,
            "min_width": null,
            "object_fit": null,
            "object_position": null,
            "order": null,
            "overflow": null,
            "overflow_x": null,
            "overflow_y": null,
            "padding": null,
            "right": null,
            "top": null,
            "visibility": null,
            "width": null
          }
        },
        "87a3d4b2ed5f4f1ca895c6a1981eb847": {
          "model_module": "@jupyter-widgets/controls",
          "model_module_version": "1.5.0",
          "model_name": "DescriptionStyleModel",
          "state": {
            "_model_module": "@jupyter-widgets/controls",
            "_model_module_version": "1.5.0",
            "_model_name": "DescriptionStyleModel",
            "_view_count": null,
            "_view_module": "@jupyter-widgets/base",
            "_view_module_version": "1.2.0",
            "_view_name": "StyleView",
            "description_width": ""
          }
        },
        "87bd0ad74d4345dea4b409d64524f6e7": {
          "model_module": "@jupyter-widgets/base",
          "model_module_version": "1.2.0",
          "model_name": "LayoutModel",
          "state": {
            "_model_module": "@jupyter-widgets/base",
            "_model_module_version": "1.2.0",
            "_model_name": "LayoutModel",
            "_view_count": null,
            "_view_module": "@jupyter-widgets/base",
            "_view_module_version": "1.2.0",
            "_view_name": "LayoutView",
            "align_content": null,
            "align_items": null,
            "align_self": null,
            "border": null,
            "bottom": null,
            "display": null,
            "flex": null,
            "flex_flow": null,
            "grid_area": null,
            "grid_auto_columns": null,
            "grid_auto_flow": null,
            "grid_auto_rows": null,
            "grid_column": null,
            "grid_gap": null,
            "grid_row": null,
            "grid_template_areas": null,
            "grid_template_columns": null,
            "grid_template_rows": null,
            "height": null,
            "justify_content": null,
            "justify_items": null,
            "left": null,
            "margin": null,
            "max_height": null,
            "max_width": null,
            "min_height": null,
            "min_width": null,
            "object_fit": null,
            "object_position": null,
            "order": null,
            "overflow": null,
            "overflow_x": null,
            "overflow_y": null,
            "padding": null,
            "right": null,
            "top": null,
            "visibility": null,
            "width": null
          }
        },
        "88c8557741734e59a6099bb5fa260f6e": {
          "model_module": "@jupyter-widgets/controls",
          "model_module_version": "1.5.0",
          "model_name": "ProgressStyleModel",
          "state": {
            "_model_module": "@jupyter-widgets/controls",
            "_model_module_version": "1.5.0",
            "_model_name": "ProgressStyleModel",
            "_view_count": null,
            "_view_module": "@jupyter-widgets/base",
            "_view_module_version": "1.2.0",
            "_view_name": "StyleView",
            "bar_color": null,
            "description_width": ""
          }
        },
        "89a7c333d0b241169dc29ed998b2c9c4": {
          "model_module": "@jupyter-widgets/base",
          "model_module_version": "1.2.0",
          "model_name": "LayoutModel",
          "state": {
            "_model_module": "@jupyter-widgets/base",
            "_model_module_version": "1.2.0",
            "_model_name": "LayoutModel",
            "_view_count": null,
            "_view_module": "@jupyter-widgets/base",
            "_view_module_version": "1.2.0",
            "_view_name": "LayoutView",
            "align_content": null,
            "align_items": null,
            "align_self": null,
            "border": null,
            "bottom": null,
            "display": null,
            "flex": null,
            "flex_flow": null,
            "grid_area": null,
            "grid_auto_columns": null,
            "grid_auto_flow": null,
            "grid_auto_rows": null,
            "grid_column": null,
            "grid_gap": null,
            "grid_row": null,
            "grid_template_areas": null,
            "grid_template_columns": null,
            "grid_template_rows": null,
            "height": null,
            "justify_content": null,
            "justify_items": null,
            "left": null,
            "margin": null,
            "max_height": null,
            "max_width": null,
            "min_height": null,
            "min_width": null,
            "object_fit": null,
            "object_position": null,
            "order": null,
            "overflow": null,
            "overflow_x": null,
            "overflow_y": null,
            "padding": null,
            "right": null,
            "top": null,
            "visibility": null,
            "width": null
          }
        },
        "8cb506949697432db061878397d196f1": {
          "model_module": "@jupyter-widgets/base",
          "model_module_version": "1.2.0",
          "model_name": "LayoutModel",
          "state": {
            "_model_module": "@jupyter-widgets/base",
            "_model_module_version": "1.2.0",
            "_model_name": "LayoutModel",
            "_view_count": null,
            "_view_module": "@jupyter-widgets/base",
            "_view_module_version": "1.2.0",
            "_view_name": "LayoutView",
            "align_content": null,
            "align_items": null,
            "align_self": null,
            "border": null,
            "bottom": null,
            "display": null,
            "flex": null,
            "flex_flow": null,
            "grid_area": null,
            "grid_auto_columns": null,
            "grid_auto_flow": null,
            "grid_auto_rows": null,
            "grid_column": null,
            "grid_gap": null,
            "grid_row": null,
            "grid_template_areas": null,
            "grid_template_columns": null,
            "grid_template_rows": null,
            "height": null,
            "justify_content": null,
            "justify_items": null,
            "left": null,
            "margin": null,
            "max_height": null,
            "max_width": null,
            "min_height": null,
            "min_width": null,
            "object_fit": null,
            "object_position": null,
            "order": null,
            "overflow": null,
            "overflow_x": null,
            "overflow_y": null,
            "padding": null,
            "right": null,
            "top": null,
            "visibility": null,
            "width": null
          }
        },
        "92ef10fab64c4f40a93da3d31b572016": {
          "model_module": "@jupyter-widgets/base",
          "model_module_version": "1.2.0",
          "model_name": "LayoutModel",
          "state": {
            "_model_module": "@jupyter-widgets/base",
            "_model_module_version": "1.2.0",
            "_model_name": "LayoutModel",
            "_view_count": null,
            "_view_module": "@jupyter-widgets/base",
            "_view_module_version": "1.2.0",
            "_view_name": "LayoutView",
            "align_content": null,
            "align_items": null,
            "align_self": null,
            "border": null,
            "bottom": null,
            "display": null,
            "flex": null,
            "flex_flow": null,
            "grid_area": null,
            "grid_auto_columns": null,
            "grid_auto_flow": null,
            "grid_auto_rows": null,
            "grid_column": null,
            "grid_gap": null,
            "grid_row": null,
            "grid_template_areas": null,
            "grid_template_columns": null,
            "grid_template_rows": null,
            "height": null,
            "justify_content": null,
            "justify_items": null,
            "left": null,
            "margin": null,
            "max_height": null,
            "max_width": null,
            "min_height": null,
            "min_width": null,
            "object_fit": null,
            "object_position": null,
            "order": null,
            "overflow": null,
            "overflow_x": null,
            "overflow_y": null,
            "padding": null,
            "right": null,
            "top": null,
            "visibility": null,
            "width": null
          }
        },
        "93bf9b194c04460abffa192c19bcf67b": {
          "model_module": "@jupyter-widgets/controls",
          "model_module_version": "1.5.0",
          "model_name": "HTMLModel",
          "state": {
            "_dom_classes": [],
            "_model_module": "@jupyter-widgets/controls",
            "_model_module_version": "1.5.0",
            "_model_name": "HTMLModel",
            "_view_count": null,
            "_view_module": "@jupyter-widgets/controls",
            "_view_module_version": "1.5.0",
            "_view_name": "HTMLView",
            "description": "",
            "description_tooltip": null,
            "layout": "IPY_MODEL_cee2268aa21643e6ad77117c67ec1600",
            "placeholder": "​",
            "style": "IPY_MODEL_c79f28da88f44d69aa87905c089df333",
            "value": " 100/100 [00:44&lt;00:00,  1.69s/it]"
          }
        },
        "97abe811c89c44dcacd7e39074d22546": {
          "model_module": "@jupyter-widgets/base",
          "model_module_version": "1.2.0",
          "model_name": "LayoutModel",
          "state": {
            "_model_module": "@jupyter-widgets/base",
            "_model_module_version": "1.2.0",
            "_model_name": "LayoutModel",
            "_view_count": null,
            "_view_module": "@jupyter-widgets/base",
            "_view_module_version": "1.2.0",
            "_view_name": "LayoutView",
            "align_content": null,
            "align_items": null,
            "align_self": null,
            "border": null,
            "bottom": null,
            "display": null,
            "flex": null,
            "flex_flow": null,
            "grid_area": null,
            "grid_auto_columns": null,
            "grid_auto_flow": null,
            "grid_auto_rows": null,
            "grid_column": null,
            "grid_gap": null,
            "grid_row": null,
            "grid_template_areas": null,
            "grid_template_columns": null,
            "grid_template_rows": null,
            "height": null,
            "justify_content": null,
            "justify_items": null,
            "left": null,
            "margin": null,
            "max_height": null,
            "max_width": null,
            "min_height": null,
            "min_width": null,
            "object_fit": null,
            "object_position": null,
            "order": null,
            "overflow": null,
            "overflow_x": null,
            "overflow_y": null,
            "padding": null,
            "right": null,
            "top": null,
            "visibility": null,
            "width": null
          }
        },
        "a03fefb9fa5a40ff947dc4ccd3c80318": {
          "model_module": "@jupyter-widgets/base",
          "model_module_version": "1.2.0",
          "model_name": "LayoutModel",
          "state": {
            "_model_module": "@jupyter-widgets/base",
            "_model_module_version": "1.2.0",
            "_model_name": "LayoutModel",
            "_view_count": null,
            "_view_module": "@jupyter-widgets/base",
            "_view_module_version": "1.2.0",
            "_view_name": "LayoutView",
            "align_content": null,
            "align_items": null,
            "align_self": null,
            "border": null,
            "bottom": null,
            "display": null,
            "flex": null,
            "flex_flow": null,
            "grid_area": null,
            "grid_auto_columns": null,
            "grid_auto_flow": null,
            "grid_auto_rows": null,
            "grid_column": null,
            "grid_gap": null,
            "grid_row": null,
            "grid_template_areas": null,
            "grid_template_columns": null,
            "grid_template_rows": null,
            "height": null,
            "justify_content": null,
            "justify_items": null,
            "left": null,
            "margin": null,
            "max_height": null,
            "max_width": null,
            "min_height": null,
            "min_width": null,
            "object_fit": null,
            "object_position": null,
            "order": null,
            "overflow": null,
            "overflow_x": null,
            "overflow_y": null,
            "padding": null,
            "right": null,
            "top": null,
            "visibility": null,
            "width": null
          }
        },
        "a10a7577a99b4683a1d59a09d88f93a1": {
          "model_module": "@jupyter-widgets/base",
          "model_module_version": "1.2.0",
          "model_name": "LayoutModel",
          "state": {
            "_model_module": "@jupyter-widgets/base",
            "_model_module_version": "1.2.0",
            "_model_name": "LayoutModel",
            "_view_count": null,
            "_view_module": "@jupyter-widgets/base",
            "_view_module_version": "1.2.0",
            "_view_name": "LayoutView",
            "align_content": null,
            "align_items": null,
            "align_self": null,
            "border": null,
            "bottom": null,
            "display": null,
            "flex": null,
            "flex_flow": null,
            "grid_area": null,
            "grid_auto_columns": null,
            "grid_auto_flow": null,
            "grid_auto_rows": null,
            "grid_column": null,
            "grid_gap": null,
            "grid_row": null,
            "grid_template_areas": null,
            "grid_template_columns": null,
            "grid_template_rows": null,
            "height": null,
            "justify_content": null,
            "justify_items": null,
            "left": null,
            "margin": null,
            "max_height": null,
            "max_width": null,
            "min_height": null,
            "min_width": null,
            "object_fit": null,
            "object_position": null,
            "order": null,
            "overflow": null,
            "overflow_x": null,
            "overflow_y": null,
            "padding": null,
            "right": null,
            "top": null,
            "visibility": null,
            "width": null
          }
        },
        "a34b3906cd514234a115c7bf6757ca9d": {
          "model_module": "@jupyter-widgets/controls",
          "model_module_version": "1.5.0",
          "model_name": "DescriptionStyleModel",
          "state": {
            "_model_module": "@jupyter-widgets/controls",
            "_model_module_version": "1.5.0",
            "_model_name": "DescriptionStyleModel",
            "_view_count": null,
            "_view_module": "@jupyter-widgets/base",
            "_view_module_version": "1.2.0",
            "_view_name": "StyleView",
            "description_width": ""
          }
        },
        "a6581091161c489d877c2cfec432f6ae": {
          "model_module": "@jupyter-widgets/controls",
          "model_module_version": "1.5.0",
          "model_name": "ProgressStyleModel",
          "state": {
            "_model_module": "@jupyter-widgets/controls",
            "_model_module_version": "1.5.0",
            "_model_name": "ProgressStyleModel",
            "_view_count": null,
            "_view_module": "@jupyter-widgets/base",
            "_view_module_version": "1.2.0",
            "_view_name": "StyleView",
            "bar_color": null,
            "description_width": ""
          }
        },
        "c79f28da88f44d69aa87905c089df333": {
          "model_module": "@jupyter-widgets/controls",
          "model_module_version": "1.5.0",
          "model_name": "DescriptionStyleModel",
          "state": {
            "_model_module": "@jupyter-widgets/controls",
            "_model_module_version": "1.5.0",
            "_model_name": "DescriptionStyleModel",
            "_view_count": null,
            "_view_module": "@jupyter-widgets/base",
            "_view_module_version": "1.2.0",
            "_view_name": "StyleView",
            "description_width": ""
          }
        },
        "cee2268aa21643e6ad77117c67ec1600": {
          "model_module": "@jupyter-widgets/base",
          "model_module_version": "1.2.0",
          "model_name": "LayoutModel",
          "state": {
            "_model_module": "@jupyter-widgets/base",
            "_model_module_version": "1.2.0",
            "_model_name": "LayoutModel",
            "_view_count": null,
            "_view_module": "@jupyter-widgets/base",
            "_view_module_version": "1.2.0",
            "_view_name": "LayoutView",
            "align_content": null,
            "align_items": null,
            "align_self": null,
            "border": null,
            "bottom": null,
            "display": null,
            "flex": null,
            "flex_flow": null,
            "grid_area": null,
            "grid_auto_columns": null,
            "grid_auto_flow": null,
            "grid_auto_rows": null,
            "grid_column": null,
            "grid_gap": null,
            "grid_row": null,
            "grid_template_areas": null,
            "grid_template_columns": null,
            "grid_template_rows": null,
            "height": null,
            "justify_content": null,
            "justify_items": null,
            "left": null,
            "margin": null,
            "max_height": null,
            "max_width": null,
            "min_height": null,
            "min_width": null,
            "object_fit": null,
            "object_position": null,
            "order": null,
            "overflow": null,
            "overflow_x": null,
            "overflow_y": null,
            "padding": null,
            "right": null,
            "top": null,
            "visibility": null,
            "width": null
          }
        },
        "cfa01f60b62f4a88806d85cee5ac0fa6": {
          "model_module": "@jupyter-widgets/controls",
          "model_module_version": "1.5.0",
          "model_name": "FloatProgressModel",
          "state": {
            "_dom_classes": [],
            "_model_module": "@jupyter-widgets/controls",
            "_model_module_version": "1.5.0",
            "_model_name": "FloatProgressModel",
            "_view_count": null,
            "_view_module": "@jupyter-widgets/controls",
            "_view_module_version": "1.5.0",
            "_view_name": "ProgressView",
            "bar_style": "success",
            "description": "",
            "description_tooltip": null,
            "layout": "IPY_MODEL_18701fc64eb44d26b8aa1ae0af64d09f",
            "max": 100,
            "min": 0,
            "orientation": "horizontal",
            "style": "IPY_MODEL_a6581091161c489d877c2cfec432f6ae",
            "value": 100
          }
        },
        "d93698b0506743ff98fdb998cfb7080a": {
          "model_module": "@jupyter-widgets/base",
          "model_module_version": "1.2.0",
          "model_name": "LayoutModel",
          "state": {
            "_model_module": "@jupyter-widgets/base",
            "_model_module_version": "1.2.0",
            "_model_name": "LayoutModel",
            "_view_count": null,
            "_view_module": "@jupyter-widgets/base",
            "_view_module_version": "1.2.0",
            "_view_name": "LayoutView",
            "align_content": null,
            "align_items": null,
            "align_self": null,
            "border": null,
            "bottom": null,
            "display": null,
            "flex": null,
            "flex_flow": null,
            "grid_area": null,
            "grid_auto_columns": null,
            "grid_auto_flow": null,
            "grid_auto_rows": null,
            "grid_column": null,
            "grid_gap": null,
            "grid_row": null,
            "grid_template_areas": null,
            "grid_template_columns": null,
            "grid_template_rows": null,
            "height": null,
            "justify_content": null,
            "justify_items": null,
            "left": null,
            "margin": null,
            "max_height": null,
            "max_width": null,
            "min_height": null,
            "min_width": null,
            "object_fit": null,
            "object_position": null,
            "order": null,
            "overflow": null,
            "overflow_x": null,
            "overflow_y": null,
            "padding": null,
            "right": null,
            "top": null,
            "visibility": null,
            "width": null
          }
        },
        "e6edc46811064de2b74a6a477c4a44b7": {
          "model_module": "@jupyter-widgets/controls",
          "model_module_version": "1.5.0",
          "model_name": "ProgressStyleModel",
          "state": {
            "_model_module": "@jupyter-widgets/controls",
            "_model_module_version": "1.5.0",
            "_model_name": "ProgressStyleModel",
            "_view_count": null,
            "_view_module": "@jupyter-widgets/base",
            "_view_module_version": "1.2.0",
            "_view_name": "StyleView",
            "bar_color": null,
            "description_width": ""
          }
        },
        "e7831a581d024e3ebb4026a89ceef127": {
          "model_module": "@jupyter-widgets/controls",
          "model_module_version": "1.5.0",
          "model_name": "DescriptionStyleModel",
          "state": {
            "_model_module": "@jupyter-widgets/controls",
            "_model_module_version": "1.5.0",
            "_model_name": "DescriptionStyleModel",
            "_view_count": null,
            "_view_module": "@jupyter-widgets/base",
            "_view_module_version": "1.2.0",
            "_view_name": "StyleView",
            "description_width": ""
          }
        },
        "f75fdd56268a4b83a7fb7e4a3b2cce82": {
          "model_module": "@jupyter-widgets/controls",
          "model_module_version": "1.5.0",
          "model_name": "HBoxModel",
          "state": {
            "_dom_classes": [],
            "_model_module": "@jupyter-widgets/controls",
            "_model_module_version": "1.5.0",
            "_model_name": "HBoxModel",
            "_view_count": null,
            "_view_module": "@jupyter-widgets/controls",
            "_view_module_version": "1.5.0",
            "_view_name": "HBoxView",
            "box_style": "",
            "children": [
              "IPY_MODEL_1fb5a4b71deb406fa2f342c88b9e4e1d",
              "IPY_MODEL_37ec9b5c847749439d7c155ac3b1ec68",
              "IPY_MODEL_1317f4e20e1c4574a360345b427c3e8a"
            ],
            "layout": "IPY_MODEL_2aa53858803d4ad39113009d86dd67fc"
          }
        },
        "fd7f5542a22d44388dda12ca19443a1f": {
          "model_module": "@jupyter-widgets/controls",
          "model_module_version": "1.5.0",
          "model_name": "FloatProgressModel",
          "state": {
            "_dom_classes": [],
            "_model_module": "@jupyter-widgets/controls",
            "_model_module_version": "1.5.0",
            "_model_name": "FloatProgressModel",
            "_view_count": null,
            "_view_module": "@jupyter-widgets/controls",
            "_view_module_version": "1.5.0",
            "_view_name": "ProgressView",
            "bar_style": "success",
            "description": "",
            "description_tooltip": null,
            "layout": "IPY_MODEL_a03fefb9fa5a40ff947dc4ccd3c80318",
            "max": 100,
            "min": 0,
            "orientation": "horizontal",
            "style": "IPY_MODEL_40343486e3ea4e5fae55b5a528f139d8",
            "value": 100
          }
        }
      }
    }
  },
  "nbformat": 4,
  "nbformat_minor": 0
}
